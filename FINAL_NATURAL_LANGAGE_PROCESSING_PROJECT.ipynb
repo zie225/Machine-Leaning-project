{
  "nbformat": 4,
  "nbformat_minor": 0,
  "metadata": {
    "kernelspec": {
      "display_name": "Python 3",
      "language": "python",
      "name": "python3"
    },
    "language_info": {
      "codemirror_mode": {
        "name": "ipython",
        "version": 3
      },
      "file_extension": ".py",
      "mimetype": "text/x-python",
      "name": "python",
      "nbconvert_exporter": "python",
      "pygments_lexer": "ipython3",
      "version": "3.8.3"
    },
    "colab": {
      "name": "FINAL NATURAL LANGAGE PROCESSING PROJECT.ipynb",
      "provenance": [],
      "collapsed_sections": [],
      "include_colab_link": true
    }
  },
  "cells": [
    {
      "cell_type": "markdown",
      "metadata": {
        "id": "view-in-github",
        "colab_type": "text"
      },
      "source": [
        "<a href=\"https://colab.research.google.com/github/zie225/Machine-Leaning-project/blob/master/FINAL_NATURAL_LANGAGE_PROCESSING_PROJECT.ipynb\" target=\"_parent\"><img src=\"https://colab.research.google.com/assets/colab-badge.svg\" alt=\"Open In Colab\"/></a>"
      ]
    },
    {
      "cell_type": "code",
      "metadata": {
        "colab": {
          "base_uri": "https://localhost:8080/"
        },
        "id": "Yb2VPC_OPuVf",
        "outputId": "44a9f231-6369-4a52-a4ea-15dea21fbda5"
      },
      "source": [
        "import ast\n",
        "\n",
        "import pandas as pd\n",
        "import numpy as np\n",
        "from collections import defaultdict\n",
        "import collections\n",
        "import gensim\n",
        "\n",
        "from sklearn.feature_extraction.text import CountVectorizer, TfidfVectorizer\n",
        "from sklearn.model_selection import train_test_split\n",
        "\n",
        "from sklearn import preprocessing\n",
        "from sklearn.pipeline import Pipeline\n",
        "\n",
        "from sklearn.neighbors import KNeighborsClassifier\n",
        "from sklearn.naive_bayes import MultinomialNB\n",
        "from sklearn.svm import SVC\n",
        "\n",
        "from sklearn.preprocessing import MultiLabelBinarizer \n",
        "from sklearn.multiclass import OneVsRestClassifier \n",
        "from sklearn.multioutput import MultiOutputClassifier                  # included from scikit-learn version 0.18.1 and onwards\n",
        "from sklearn.ensemble import RandomForestClassifier\n",
        "from sklearn import metrics\n",
        "import json\n",
        "import numpy as np\n",
        "import pandas as pd\n",
        "import gensim\n",
        "import networkx as nx\n",
        "import collections\n",
        "\n",
        "import nltk\n",
        "from nltk import FreqDist\n",
        "from nltk.corpus import stopwords\n",
        "from nltk.tokenize import word_tokenize\n",
        "from nltk.stem import PorterStemmer, WordNetLemmatizer\n",
        "import re \n",
        "from collections import Counter\n",
        "from pprint import pprint\n",
        "from gensim.models import CoherenceModel\n",
        "from scipy.linalg import svd\n",
        "from sklearn.decomposition import TruncatedSVD\n",
        "\n",
        "from sklearn.feature_extraction.text import TfidfVectorizer,CountVectorizer\n",
        "\n",
        "# Plotting tools\n",
        "\n",
        "import matplotlib.pyplot as plt\n",
        "import seaborn as sns\n",
        "from sklearn.decomposition import PCA\n",
        "from sklearn.manifold import TSNE\n",
        "\n",
        "# for Mac\n",
        "%matplotlib inline\n",
        "%config InlineBackend.figure_format='retina'\n",
        "import numpy as np\n",
        "import pandas as pd\n",
        "import nltk\n",
        "from nltk.tokenize import sent_tokenize\n",
        "nltk.download('punkt') # one time execution\n",
        "import re\n",
        "\n",
        "import re\n",
        "import os\n",
        "import time\n",
        "import numpy as np\n",
        "import pandas as pd \n",
        "import unicodedata\n",
        "import tensorflow as tf\n",
        "import tensorflow.keras as krs\n",
        "from tensorflow.keras.layers import Embedding\n",
        "from tensorflow.keras.optimizers import Adam\n",
        "from tensorflow.keras.losses import SparseCategoricalCrossentropy, CategoricalCrossentropy\n",
        "from tensorflow.keras.preprocessing.text import Tokenizer \n",
        "from tensorflow.keras.optimizers.schedules import LearningRateSchedule\n",
        "import csv\n",
        "\n",
        "BUFFER_SIZE = 20000\n",
        "BATCH_SIZE = 64\n",
        "embedding_dim = 50 # first it was 200\n",
        "\n",
        "from spacy.matcher import Matcher \n",
        "from spacy.tokens import Span \n",
        "\n",
        "import networkx as nx\n",
        "\n",
        "import matplotlib.pyplot as plt\n",
        "from tqdm import tqdm\n",
        "\n",
        "\n",
        "# This Python 3 environment comes with many helpful analytics libraries installed\n",
        "# It is defined by the kaggle/python docker image: https://github.com/kaggle/docker-python\n",
        "# For example, here's several helpful packages to load in \n",
        "import gc\n",
        "import numpy as np # linear algebra\n",
        "import pandas as pd # data processing, CSV file I/O (e.g. pd.read_csv)\n",
        "\n",
        "\n",
        "import plotly as py\n",
        "import plotly.graph_objs as go\n",
        "import matplotlib.pyplot as plt\n",
        "\n",
        "from sklearn.feature_extraction import stop_words\n",
        "import re\n",
        "import string\n",
        "import numpy as np # linear algebra\n",
        "import pandas as pd # data processing, CSV file I/O (e.g. pd.read_csv)\n",
        "import os, sys, tarfile\n",
        "from sklearn.model_selection import train_test_split\n",
        "\n",
        "from IPython.display import Image\n",
        "import pandas as pd\n",
        "import numpy as np\n",
        "import os\n",
        "import re\n",
        "import warnings\n",
        "warnings.filterwarnings(\"ignore\")\n",
        "from sklearn import datasets, linear_model\n",
        "from sklearn.model_selection import train_test_split\n",
        "from matplotlib import pyplot as plt\n",
        "from bs4 import BeautifulSoup\n",
        "from nltk.corpus import stopwords\n",
        "from keras.utils.vis_utils import plot_model\n",
        "from keras.preprocessing.text import Tokenizer,text_to_word_sequence \n",
        "from keras.preprocessing.sequence import pad_sequences\n",
        "#from keras.layers import Input,Dense, Activation, concatenate, Embedding, Flatten, CuDNNLSTM, Bidirectional, Concatenate\n",
        "from keras.models import Model\n",
        "from keras.callbacks import ModelCheckpoint, Callback, EarlyStopping\n",
        "from keras import backend as K\n",
        "from keras import optimizers\n",
        "pd.set_option('display.max_colwidth', 200)"
      ],
      "execution_count": 11,
      "outputs": [
        {
          "output_type": "stream",
          "text": [
            "[nltk_data] Downloading package punkt to /root/nltk_data...\n",
            "[nltk_data]   Package punkt is already up-to-date!\n"
          ],
          "name": "stdout"
        }
      ]
    },
    {
      "cell_type": "code",
      "metadata": {
        "id": "gB2ZvmAYPuVp"
      },
      "source": [
        "parsed_sites = 'AgrSmall.json'\n",
        "\n",
        "with open(parsed_sites, \"r\") as read_file:\n",
        "    abstract_dict = json.load(read_file)"
      ],
      "execution_count": 12,
      "outputs": []
    },
    {
      "cell_type": "code",
      "metadata": {
        "colab": {
          "base_uri": "https://localhost:8080/",
          "height": 466
        },
        "id": "HHi1t42EPuVq",
        "outputId": "5133e999-4546-4f6b-cb42-b2ed364f2537"
      },
      "source": [
        "df= pd.DataFrame.from_dict(abstract_dict)\n",
        "df.head()"
      ],
      "execution_count": 13,
      "outputs": [
        {
          "output_type": "execute_result",
          "data": {
            "text/html": [
              "<div>\n",
              "<style scoped>\n",
              "    .dataframe tbody tr th:only-of-type {\n",
              "        vertical-align: middle;\n",
              "    }\n",
              "\n",
              "    .dataframe tbody tr th {\n",
              "        vertical-align: top;\n",
              "    }\n",
              "\n",
              "    .dataframe thead th {\n",
              "        text-align: right;\n",
              "    }\n",
              "</style>\n",
              "<table border=\"1\" class=\"dataframe\">\n",
              "  <thead>\n",
              "    <tr style=\"text-align: right;\">\n",
              "      <th></th>\n",
              "      <th>doi</th>\n",
              "      <th>titles</th>\n",
              "      <th>abstracts</th>\n",
              "      <th>authors</th>\n",
              "      <th>keywords</th>\n",
              "      <th>sources</th>\n",
              "    </tr>\n",
              "  </thead>\n",
              "  <tbody>\n",
              "    <tr>\n",
              "      <th>0</th>\n",
              "      <td>10.3390</td>\n",
              "      <td>Community Faecal Management Strategies and Perceptions on Sludge Use in Agriculture</td>\n",
              "      <td>Most people in rural areas in South Africa (SA) rely on untreated drinking groundwater sources and pit latrine sanitations. A minimum basic sanitation facility should enable safe and appropriate r...</td>\n",
              "      <td>[Matthew Mamera, Johan J. van Tol, Makhosazana P. Aghoghovwia, Gabriel T. Mapetere]</td>\n",
              "      <td>agriculture</td>\n",
              "      <td>mdpi</td>\n",
              "    </tr>\n",
              "    <tr>\n",
              "      <th>1</th>\n",
              "      <td>10.3390</td>\n",
              "      <td>Adoption of Sustainable Agriculture Practices in Banana Farm Production: A Study from the Sindh Region of Pakistan</td>\n",
              "      <td>The aim of this study was to highlight the importance of socioeconomic and psychosocial factors in the adoption of sustainable agricultural practices (SAPs) in banana farm production. To this end,...</td>\n",
              "      <td>[Rafay Waseem, Gershom Endelani Mwalupaso, Faria Waseem, Humayoon Khan, Ghulam Mustafa Panhwar, Yangyan Shi]</td>\n",
              "      <td>agriculture</td>\n",
              "      <td>mdpi</td>\n",
              "    </tr>\n",
              "    <tr>\n",
              "      <th>2</th>\n",
              "      <td>10.3390</td>\n",
              "      <td>Atlanta Residents’ Knowledge Regarding Heavy Metal Exposures and Remediation in Urban Agriculture</td>\n",
              "      <td>Urban agriculture and gardening provide many health benefits, but the soil is sometimes at risk of heavy metal and metalloid (HMM) contamination. HMM, such as lead and arsenic, can result in adver...</td>\n",
              "      <td>[Lauren Balotin, Samantha Distler, Antoinette Williams, Samuel J.W. Peters, Candis M. Hunter, Chris Theal, Gil Frank, Taranji Alvarado, Rosario Hernandez, Arthur Hines, Eri Saikawa]</td>\n",
              "      <td>agriculture</td>\n",
              "      <td>mdpi</td>\n",
              "    </tr>\n",
              "    <tr>\n",
              "      <th>3</th>\n",
              "      <td>10.3390</td>\n",
              "      <td>Perceptions of the Challenges and Opportunities of Utilising Organic Waste through Urban Agriculture in the Durban South Basin</td>\n",
              "      <td>Waste management has become pertinent in urban regions, along with rapid population growth. The current ways of managing waste, such as refuse collection and recycling, are failing to minimise was...</td>\n",
              "      <td>[Nqubeko Neville Menyuka, Melusi Sibanda, Urmilla Bob]</td>\n",
              "      <td>agriculture</td>\n",
              "      <td>mdpi</td>\n",
              "    </tr>\n",
              "    <tr>\n",
              "      <th>4</th>\n",
              "      <td>10.3390</td>\n",
              "      <td>An Assessment of Seaweed Extracts: Innovation for Sustainable Agriculture</td>\n",
              "      <td>Plant growth regulators (PGRs) are described in the literature as having a significant role in securing crop management of modern agriculture in conditions of abiotic and biotic stressors. A joint...</td>\n",
              "      <td>[El Chami Daniel, Galli Fabio]</td>\n",
              "      <td>agriculture</td>\n",
              "      <td>mdpi</td>\n",
              "    </tr>\n",
              "  </tbody>\n",
              "</table>\n",
              "</div>"
            ],
            "text/plain": [
              "       doi  ... sources\n",
              "0  10.3390  ...    mdpi\n",
              "1  10.3390  ...    mdpi\n",
              "2  10.3390  ...    mdpi\n",
              "3  10.3390  ...    mdpi\n",
              "4  10.3390  ...    mdpi\n",
              "\n",
              "[5 rows x 6 columns]"
            ]
          },
          "metadata": {
            "tags": []
          },
          "execution_count": 13
        }
      ]
    },
    {
      "cell_type": "code",
      "metadata": {
        "id": "C9O39D23PuVr"
      },
      "source": [
        "#from sklearn.utils import shuffle\n",
        "# shuffling the data \n",
        "#df= shuffle(df)\n",
        "#df.head()"
      ],
      "execution_count": 14,
      "outputs": []
    },
    {
      "cell_type": "code",
      "metadata": {
        "id": "_uAubGEaPuVs"
      },
      "source": [
        "df=df[df['abstracts'].isnull()==False]\n",
        "df=df[df['titles'].isnull()==False]\n",
        "df=df[df['abstracts']!='nan']\n",
        "\n",
        "df.drop_duplicates(subset=['abstracts'],inplace=True)  #dropping duplicates"
      ],
      "execution_count": 15,
      "outputs": []
    },
    {
      "cell_type": "code",
      "metadata": {
        "colab": {
          "base_uri": "https://localhost:8080/"
        },
        "id": "C8TLRdvzQmrR",
        "outputId": "b52bd82e-0916-4c36-c693-a6b1a44b8c91"
      },
      "source": [
        "import nltk\n",
        "nltk.download('stopwords')"
      ],
      "execution_count": 16,
      "outputs": [
        {
          "output_type": "stream",
          "text": [
            "[nltk_data] Downloading package stopwords to /root/nltk_data...\n",
            "[nltk_data]   Package stopwords is already up-to-date!\n"
          ],
          "name": "stdout"
        },
        {
          "output_type": "execute_result",
          "data": {
            "text/plain": [
              "True"
            ]
          },
          "metadata": {
            "tags": []
          },
          "execution_count": 16
        }
      ]
    },
    {
      "cell_type": "code",
      "metadata": {
        "id": "2Q7mIE-VPuVt"
      },
      "source": [
        "stop_words = set(stopwords.words('english')) \n",
        "\n",
        "def text_cleaner(text,num):\n",
        "    str = text.lower()\n",
        "    str = BeautifulSoup(str, \"lxml\").text\n",
        "    str = re.sub(r'\\([^)]*\\)', '', str)\n",
        "    str = re.sub('\"','', str)\n",
        "    str = ' '.join([contraction_mapping[t] if t in contraction_mapping else t for t in str.split(\" \")])    \n",
        "    str = re.sub(r\"'s\\b\",\"\",str)\n",
        "    str = re.sub(\"[^a-zA-Z]\", \" \", str) \n",
        "    str = re.sub('[m]{2,}', 'mm', str)\n",
        "    if(num==0):\n",
        "        str = re.sub(r'\\.',' . ',str)\n",
        "    if(num==0):\n",
        "        tokens = [w for w in str.split() if not w in stop_words]\n",
        "      \n",
        "    else:\n",
        "        \n",
        "        tokens=str.split()\n",
        "    long_words=[]\n",
        "    for i in tokens:\n",
        "        if len(i)>1:                                                 #removing short words\n",
        "            long_words.append(i)\n",
        "    return (\" \".join(long_words)).strip()"
      ],
      "execution_count": 17,
      "outputs": []
    },
    {
      "cell_type": "code",
      "metadata": {
        "id": "51kPgmJQPuVt"
      },
      "source": [
        "contraction_mapping = {\"ain't\": \"is not\", \"aren't\": \"are not\",\"can't\": \"cannot\", \"'cause\": \"because\", \"could've\": \"could have\", \"couldn't\": \"could not\",\"didn't\": \"did not\", \"doesn't\": \"does not\", \"don't\": \"do not\", \"hadn't\": \"had not\", \"hasn't\": \"has not\", \"haven't\": \"have not\",\"he'd\": \"he would\",\"he'll\": \"he will\", \"he's\": \"he is\", \"how'd\": \"how did\", \"how'd'y\": \"how do you\", \"how'll\": \"how will\", \"how's\": \"how is\",\"I'd\": \"I would\", \"I'd've\": \"I would have\", \"I'll\": \"I will\", \"I'll've\": \"I will have\",\"I'm\": \"I am\", \"I've\": \"I have\", \"i'd\": \"i would\",\"i'd've\": \"i would have\", \"i'll\": \"i will\",  \"i'll've\": \"i will have\",\"i'm\": \"i am\", \"i've\": \"i have\", \"isn't\": \"is not\", \"it'd\": \"it would\",\"it'd've\": \"it would have\", \"it'll\": \"it will\", \"it'll've\": \"it will have\",\"it's\": \"it is\", \"let's\": \"let us\", \"ma'am\": \"madam\",\"mayn't\": \"may not\", \"might've\": \"might have\",\"mightn't\": \"might not\",\"mightn't've\": \"might not have\", \"must've\": \"must have\",\"mustn't\": \"must not\", \"mustn't've\": \"must not have\", \"needn't\": \"need not\", \"needn't've\": \"need not have\",\"o'clock\": \"of the clock\",\"oughtn't\": \"ought not\", \"oughtn't've\": \"ought not have\", \"shan't\": \"shall not\", \"sha'n't\": \"shall not\", \"shan't've\": \"shall not have\",\"she'd\": \"she would\", \"she'd've\": \"she would have\", \"she'll\": \"she will\", \"she'll've\": \"she will have\", \"she's\": \"she is\",\"should've\": \"should have\", \"shouldn't\": \"should not\", \"shouldn't've\": \"should not have\", \"so've\": \"so have\",\"so's\": \"so as\",\"this's\": \"this is\",\"that'd\": \"that would\", \"that'd've\": \"that would have\", \"that's\": \"that is\", \"there'd\": \"there would\",\"there'd've\": \"there would have\", \"there's\": \"there is\", \"here's\": \"here is\",\"they'd\": \"they would\", \"they'd've\": \"they would have\",\"they'll\": \"they will\", \"they'll've\": \"they will have\", \"they're\": \"they are\", \"they've\": \"they have\", \"to've\": \"to have\",\"wasn't\": \"was not\", \"we'd\": \"we would\", \"we'd've\": \"we would have\", \"we'll\": \"we will\", \"we'll've\": \"we will have\", \"we're\": \"we are\",\"we've\": \"we have\", \"weren't\": \"were not\", \"what'll\": \"what will\", \"what'll've\": \"what will have\", \"what're\": \"what are\",\"what's\": \"what is\", \"what've\": \"what have\", \"when's\": \"when is\", \"when've\": \"when have\", \"where'd\": \"where did\", \"where's\": \"where is\",\"where've\": \"where have\", \"who'll\": \"who will\", \"who'll've\": \"who will have\", \"who's\": \"who is\", \"who've\": \"who have\",\"why's\": \"why is\", \"why've\": \"why have\", \"will've\": \"will have\", \"won't\": \"will not\", \"won't've\": \"will not have\",\"would've\": \"would have\", \"wouldn't\": \"would not\", \"wouldn't've\": \"would not have\", \"y'all\": \"you all\",\"y'all'd\": \"you all would\",\"y'all'd've\": \"you all would have\",\"y'all're\": \"you all are\",\"y'all've\": \"you all have\",\"you'd\": \"you would\", \"you'd've\": \"you would have\", \"you'll\": \"you will\", \"you'll've\": \"you will have\",\"you're\": \"you are\", \"you've\": \"you have\"}"
      ],
      "execution_count": 18,
      "outputs": []
    },
    {
      "cell_type": "code",
      "metadata": {
        "id": "yW1AfdiPPuVu"
      },
      "source": [
        "#call the function\n",
        "clean_text = []\n",
        "for t in df['titles']:\n",
        "    clean_text.append(text_cleaner(t,0))"
      ],
      "execution_count": 19,
      "outputs": []
    },
    {
      "cell_type": "code",
      "metadata": {
        "id": "a9i_CrySPuVu"
      },
      "source": [
        "#call the function\n",
        "clean_summary = []\n",
        "for t in df['abstracts']:\n",
        "    clean_summary.append(text_cleaner(t,0))"
      ],
      "execution_count": 20,
      "outputs": []
    },
    {
      "cell_type": "code",
      "metadata": {
        "id": "_9hCOfmNPuVv"
      },
      "source": [
        "df['titles']=clean_text\n",
        "df['abstracts']=clean_summary\n",
        "\n",
        "df.replace('', np.nan, inplace=True)\n",
        "df.dropna(axis=0,inplace=True)"
      ],
      "execution_count": 21,
      "outputs": []
    },
    {
      "cell_type": "code",
      "metadata": {
        "colab": {
          "base_uri": "https://localhost:8080/",
          "height": 466
        },
        "id": "37P4oylSPuVw",
        "outputId": "60c128de-78dd-4bfd-9f1f-c79c0dce7065"
      },
      "source": [
        "df.head()"
      ],
      "execution_count": 22,
      "outputs": [
        {
          "output_type": "execute_result",
          "data": {
            "text/html": [
              "<div>\n",
              "<style scoped>\n",
              "    .dataframe tbody tr th:only-of-type {\n",
              "        vertical-align: middle;\n",
              "    }\n",
              "\n",
              "    .dataframe tbody tr th {\n",
              "        vertical-align: top;\n",
              "    }\n",
              "\n",
              "    .dataframe thead th {\n",
              "        text-align: right;\n",
              "    }\n",
              "</style>\n",
              "<table border=\"1\" class=\"dataframe\">\n",
              "  <thead>\n",
              "    <tr style=\"text-align: right;\">\n",
              "      <th></th>\n",
              "      <th>doi</th>\n",
              "      <th>titles</th>\n",
              "      <th>abstracts</th>\n",
              "      <th>authors</th>\n",
              "      <th>keywords</th>\n",
              "      <th>sources</th>\n",
              "    </tr>\n",
              "  </thead>\n",
              "  <tbody>\n",
              "    <tr>\n",
              "      <th>0</th>\n",
              "      <td>10.3390</td>\n",
              "      <td>community faecal management strategies perceptions sludge use agriculture</td>\n",
              "      <td>people rural areas south africa rely untreated drinking groundwater sources pit latrine sanitations minimum basic sanitation facility enable safe appropriate removal human waste although pit latri...</td>\n",
              "      <td>[Matthew Mamera, Johan J. van Tol, Makhosazana P. Aghoghovwia, Gabriel T. Mapetere]</td>\n",
              "      <td>agriculture</td>\n",
              "      <td>mdpi</td>\n",
              "    </tr>\n",
              "    <tr>\n",
              "      <th>1</th>\n",
              "      <td>10.3390</td>\n",
              "      <td>adoption sustainable agriculture practices banana farm production study sindh region pakistan</td>\n",
              "      <td>aim study highlight importance socioeconomic psychosocial factors adoption sustainable agricultural practices banana farm production end data randomly selected farm households pakistan collected s...</td>\n",
              "      <td>[Rafay Waseem, Gershom Endelani Mwalupaso, Faria Waseem, Humayoon Khan, Ghulam Mustafa Panhwar, Yangyan Shi]</td>\n",
              "      <td>agriculture</td>\n",
              "      <td>mdpi</td>\n",
              "    </tr>\n",
              "    <tr>\n",
              "      <th>2</th>\n",
              "      <td>10.3390</td>\n",
              "      <td>atlanta residents knowledge regarding heavy metal exposures remediation urban agriculture</td>\n",
              "      <td>urban agriculture gardening provide many health benefits soil sometimes risk heavy metal metalloid contamination hmm lead arsenic result adverse health effects humans gardeners may face exposure c...</td>\n",
              "      <td>[Lauren Balotin, Samantha Distler, Antoinette Williams, Samuel J.W. Peters, Candis M. Hunter, Chris Theal, Gil Frank, Taranji Alvarado, Rosario Hernandez, Arthur Hines, Eri Saikawa]</td>\n",
              "      <td>agriculture</td>\n",
              "      <td>mdpi</td>\n",
              "    </tr>\n",
              "    <tr>\n",
              "      <th>3</th>\n",
              "      <td>10.3390</td>\n",
              "      <td>perceptions challenges opportunities utilising organic waste urban agriculture durban south basin</td>\n",
              "      <td>waste management become pertinent urban regions along rapid population growth current ways managing waste refuse collection recycling failing minimise waste cities urban populations growing worldw...</td>\n",
              "      <td>[Nqubeko Neville Menyuka, Melusi Sibanda, Urmilla Bob]</td>\n",
              "      <td>agriculture</td>\n",
              "      <td>mdpi</td>\n",
              "    </tr>\n",
              "    <tr>\n",
              "      <th>4</th>\n",
              "      <td>10.3390</td>\n",
              "      <td>assessment seaweed extracts innovation sustainable agriculture</td>\n",
              "      <td>plant growth regulators described literature significant role securing crop management modern agriculture conditions abiotic biotic stressors joint field experiment carried assess role seaweed bas...</td>\n",
              "      <td>[El Chami Daniel, Galli Fabio]</td>\n",
              "      <td>agriculture</td>\n",
              "      <td>mdpi</td>\n",
              "    </tr>\n",
              "  </tbody>\n",
              "</table>\n",
              "</div>"
            ],
            "text/plain": [
              "       doi  ... sources\n",
              "0  10.3390  ...    mdpi\n",
              "1  10.3390  ...    mdpi\n",
              "2  10.3390  ...    mdpi\n",
              "3  10.3390  ...    mdpi\n",
              "4  10.3390  ...    mdpi\n",
              "\n",
              "[5 rows x 6 columns]"
            ]
          },
          "metadata": {
            "tags": []
          },
          "execution_count": 22
        }
      ]
    },
    {
      "cell_type": "code",
      "metadata": {
        "colab": {
          "base_uri": "https://localhost:8080/",
          "height": 280
        },
        "id": "ncWhq-QXPuVy",
        "outputId": "539b8e15-ff9b-4611-d665-4690c0958208"
      },
      "source": [
        "import matplotlib.pyplot as plt\n",
        "text_word_count = []\n",
        "headline_word_count = []\n",
        "\n",
        "# populate the lists with sentence lengths\n",
        "for i in df['titles']:\n",
        "    temp=i.split()\n",
        "    text_word_count.append(len(temp))\n",
        "\n",
        "for j in df['abstracts']:\n",
        "  #print(j)\n",
        "    temp1=j.split()\n",
        "    headline_word_count.append(len(temp1))\n",
        "\n",
        "length_df = pd.DataFrame({'titles':text_word_count, 'abstracts':headline_word_count})\n",
        "length_df.hist(bins = 30,range=[0,1000])\n",
        "plt.show()"
      ],
      "execution_count": 23,
      "outputs": [
        {
          "output_type": "display_data",
          "data": {
            "image/png": "[encoded data removed]",
            "text/plain": [
              "<Figure size 432x288 with 2 Axes>"
            ]
          },
          "metadata": {
            "tags": [],
            "image/png": {
              "width": 388,
              "height": 263
            },
            "needs_background": "light"
          }
        }
      ]
    },
    {
      "cell_type": "code",
      "metadata": {
        "id": "2TNAvbjePuVz"
      },
      "source": [
        "# From the graph\n",
        "# We can fix maximum length of text = 150 since most of the abstracts have a length of 150 and maximum titles length of 50, since maximum headlines are of size 40\n",
        "\n",
        "max_len_abstracts= 150\n",
        "max_len_titles=50"
      ],
      "execution_count": 24,
      "outputs": []
    },
    {
      "cell_type": "code",
      "metadata": {
        "colab": {
          "base_uri": "https://localhost:8080/"
        },
        "id": "7sjT4RC9PuV0",
        "outputId": "5e4d4a00-7cc5-4eb2-de83-57e3e3905e62"
      },
      "source": [
        "cnt=0\n",
        "for i in df['abstracts']:\n",
        "    if(len(i.split())<=150):\n",
        "        cnt=cnt+1\n",
        "print(cnt/len(df['abstracts']))"
      ],
      "execution_count": 25,
      "outputs": [
        {
          "output_type": "stream",
          "text": [
            "0.7318479685452163\n"
          ],
          "name": "stdout"
        }
      ]
    },
    {
      "cell_type": "code",
      "metadata": {
        "id": "R3IRa1JTPuV0"
      },
      "source": [
        "titles1 =np.array(df['titles'])\n",
        "abstracts1=np.array(df['abstracts'])\n",
        "\n",
        "short_titles=[]\n",
        "short_summary=[]\n",
        "\n",
        "for i in range(len(titles1)):\n",
        "    if(len(abstracts1[i].split())<=50 and len(titles1[i].split())<=150):\n",
        "        short_titles.append(titles1[i])\n",
        "        short_summary.append(abstracts1[i])\n",
        "        \n",
        "df=pd.DataFrame({'titles':short_titles,'summary':short_summary})"
      ],
      "execution_count": 26,
      "outputs": []
    },
    {
      "cell_type": "code",
      "metadata": {
        "id": "BxkZL5mLPuV0"
      },
      "source": [
        "# Validating the lengths\n",
        "\n",
        "titles1 =np.array(df['titles'])\n",
        "abstract1=np.array(df['summary'])\n",
        "\n",
        "\n",
        "for i in range(len(titles1)):\n",
        "    if(len(abstract1[i].split())>=150):\n",
        "        print(i)"
      ],
      "execution_count": 27,
      "outputs": []
    },
    {
      "cell_type": "code",
      "metadata": {
        "colab": {
          "base_uri": "https://localhost:8080/"
        },
        "id": "JH-LIeYhPuV1",
        "outputId": "ba34d116-cd1e-41ef-bb55-2903093453e6"
      },
      "source": [
        "print(df['titles'][400],df['summary'][400],sep='\\n')"
      ],
      "execution_count": 28,
      "outputs": [
        {
          "output_type": "stream",
          "text": [
            "urban agriculture small farm water use case studies trends cache valley utah\n",
            "highlights large heterogeneity water use practices among urban small farms small fields lower uniformities greater depths large fields surface irrigated fields apply higher depths sprinkle drip fields fields relying set schedule higher depths fields without irrigators need better awareness importance management efficiency\n"
          ],
          "name": "stdout"
        }
      ]
    },
    {
      "cell_type": "code",
      "metadata": {
        "id": "OGtG-owcPuV1"
      },
      "source": [
        "from sklearn.model_selection import train_test_split\n",
        "x_train,x_test,y_train,y_test=train_test_split(df['titles'],df['summary'],test_size=0.3,random_state=0,shuffle=True)"
      ],
      "execution_count": 29,
      "outputs": []
    },
    {
      "cell_type": "code",
      "metadata": {
        "colab": {
          "base_uri": "https://localhost:8080/"
        },
        "id": "v1OXsJQ5PuV1",
        "outputId": "a8ae5ce5-1239-4b5d-c40e-89bbc7455d39"
      },
      "source": [
        "print(len(x_train))\n",
        "print(len(x_test))"
      ],
      "execution_count": 30,
      "outputs": [
        {
          "output_type": "stream",
          "text": [
            "356\n",
            "153\n"
          ],
          "name": "stdout"
        }
      ]
    },
    {
      "cell_type": "code",
      "metadata": {
        "id": "Bcj8Z6kCPuV2"
      },
      "source": [
        "from __future__ import unicode_literals, print_function, division\n",
        "from io import open\n",
        "import unicodedata\n",
        "import string\n",
        "import re\n",
        "import random\n",
        "\n",
        "import torch\n",
        "import torch.nn as nn\n",
        "from torch import optim\n",
        "import torch.nn.functional as F\n",
        "\n",
        "device = torch.device(\"cuda\" if torch.cuda.is_available() else \"cpu\")"
      ],
      "execution_count": 31,
      "outputs": []
    },
    {
      "cell_type": "code",
      "metadata": {
        "id": "6RujPSrSPuV2"
      },
      "source": [
        "SOS_token = 0\n",
        "EOS_token = 1\n",
        "\n",
        "class Lang:\n",
        "    def __init__(self, name):\n",
        "        self.name = name\n",
        "        self.word2index = {}\n",
        "        self.word2count = {}\n",
        "        self.index2word = {0: \"SOS\", 1: \"EOS\"}\n",
        "        self.n_words = 2  # Count SOS and EOS\n",
        "\n",
        "    def addSentence(self, sentence):\n",
        "        for word in sentence.split(' '):\n",
        "            self.addWord(word)\n",
        "\n",
        "    def addWord(self, word):\n",
        "        if word not in self.word2index:\n",
        "            self.word2index[word] = self.n_words\n",
        "            self.word2count[word] = 1\n",
        "            self.index2word[self.n_words] = word\n",
        "            self.n_words += 1\n",
        "        else:\n",
        "            self.word2count[word] += 1"
      ],
      "execution_count": 32,
      "outputs": []
    },
    {
      "cell_type": "code",
      "metadata": {
        "id": "19jvO1PaPuV2"
      },
      "source": [
        "def readLangs(titles, summary, reverse=False):\n",
        "    print(\"Reading lines...\")\n",
        "    \n",
        "    # Split every line into pairs and normalize\n",
        "    titles=np.array(titles)\n",
        "    summary=np.array(summary)\n",
        "    pairs = [[titles[i],summary[i]] for i in range(len(summary))]\n",
        "\n",
        "    # Reverse pairs, make Lang instances\n",
        "    if reverse:\n",
        "        pairs = [list(reversed(p)) for p in pairs]\n",
        "        input_lang = Lang(titles)\n",
        "        output_lang = Lang(summary)\n",
        "    else:\n",
        "        input_lang = Lang(summary)\n",
        "        output_lang = Lang(titles)\n",
        "\n",
        "    return input_lang, output_lang, pairs"
      ],
      "execution_count": 33,
      "outputs": []
    },
    {
      "cell_type": "code",
      "metadata": {
        "id": "q6dXvaZHPuV2"
      },
      "source": [
        "def prepareData(lang1, lang2, reverse=False):\n",
        "    input_lang, output_lang, pairs = readLangs(lang1, lang2, reverse)\n",
        "    print(\"Read %s sentence pairs\" % len(pairs))\n",
        "    print(\"Counting words...\")\n",
        "    for pair in pairs:\n",
        "        input_lang.addSentence(pair[0])\n",
        "        output_lang.addSentence(pair[1])\n",
        "    print(\"Counted words:\")\n",
        "    print(input_lang.name,\"--------------------\", input_lang.n_words)\n",
        "    #print(output_lang.name, output_lang.n_words)\n",
        "    return input_lang, output_lang, pairs"
      ],
      "execution_count": 34,
      "outputs": []
    },
    {
      "cell_type": "code",
      "metadata": {
        "colab": {
          "base_uri": "https://localhost:8080/"
        },
        "id": "-MvxZArmPuV2",
        "outputId": "f745acd2-ec87-41fc-9a52-22d66045db22"
      },
      "source": [
        "input_lang, output_lang, pairs = prepareData(x_train, y_train , False)\n",
        "#print(random.choice(pairs))"
      ],
      "execution_count": 35,
      "outputs": [
        {
          "output_type": "stream",
          "text": [
            "Reading lines...\n",
            "Read 356 sentence pairs\n",
            "Counting words...\n",
            "Counted words:\n",
            "['highlights exogenous application hydrogen rich water ameliorates detrimental effects salinity barley amelioration explained higher rate na extrusion mediated sos like na exchanger root epidermis hrw treated plants prevented nacl induced membrane depolarization reduced sensitivity efflux channels ros'\n",
            " 'purpose paper introduce mandelbrot julia sets using picard mann iteration procedure escape criteria established plays important role generate mandelbrot julia sets also numerous graphical pictures sets visualized certain examples recognized presented results shows fractal images generated picard mann iteration procedure entirely different generated mann orbit'\n",
            " 'highlights microwave altered properties isolated kernel hull less barley starches disrupted crystalline region greater kernel starches peak viscosity kernel starches decreased microwaving increased amylose plays profound role properties microwaved starch'\n",
            " 'abstract background plant parasitic weeds belonging genus striga major threat food production sub saharan africa southeast asia parasite life cycle starts induction seed germination host plant derived signals followed parasite attachment infection outgrowth flowering reproduction seed set dispersal given small seed size parasite'\n",
            " 'introduction high salinity one widespread abiotic stresses affecting plant physiology growth development remarkable reduction cereals productivity recurrently reported recent decades'\n",
            " 'highlights original measurements used analyzing harvest index forming indices prior statistical analysis may result biased estimates estimated relative water content may biased based pre processing simple statistical approaches exist avoid bias estimated averages indices'\n",
            " 'highlights qtls downy mildew resistance identified using slaf marker genetic maps two novel qtls loci rpv rpv mapped linkage group six promising candidate genes downy mildew resistance identified'\n",
            " 'work result study made birds faculty agronomy santa rosa surrounding observations made period added data poblacional state ecological habit birds species belonging families recorded percent permanent resident communities composed mainly scarce species period study species breed area recorded molothrus bonarinesis parasite'\n",
            " 'highlights precision agriculture account physiological processes underlying relationship environment crop development growth yield crop choice practices tailored zone based ecophysiological principles zone management increased production profit reduced risk possible achieve yield gain rates required meet projected grain demand'\n",
            " 'note lieu abstract excerpt first page editors agronomy would like express sincere gratitude following reviewers assessing manuscripts view full text'\n",
            " 'highlights multispectral vision system developed detect invertebrates crops uv light good indicator distinguish green leaves materials proposed two models normalised hypercube hyper hue pest detection'\n",
            " 'force'\n",
            " 'highlights manuscript gives detailed summary research automatic recognition pig behavior recent years manuscript discusses impact emerging technologies deep learning pig behavior recognition'\n",
            " 'highlights ampelomyces quisqualis cpa potential bca powdery mildew stress conditions growth favoured production conidia produced conidia significantly reduced xanthii zucchini plants'\n",
            " 'highlights optimized method multimodal image registration new semi automatic method labelling images pixel wise data augmentation based ground truth enrich databases segnet models vine disease detection uav visible infrared images fusion visible infrared segmented images obtain robust map disease'\n",
            " 'introduction field based phenotyping promising gathering information number plants per plot important description plant traits agricultural practices'\n",
            " 'nlr clr'\n",
            " 'harvestchoice began detailed readily accessible data agriculture human welfare environment scarce africa south sahara statistics support agricultural policy investment decisions region often coarse available national scale since technology advances enabled rapid data generation'\n",
            " 'author michiel wels roland siezen sacha van hijum william kelly herwig bachmann lactococcus lactis one important micro organisms dairy industry fermentation'\n",
            " 'nowadays concept ldquo'\n",
            " 'highlights downwash flow hovering unmanned helicopter measured indoors particle image velocimetry yielded high accuracy resolution downwash flow data high resolution instantaneous average velocity fields obtained turbulence kinetic energy different hovering heights also determined data provide reference improve future models precision agriculture'\n",
            " 'highlights agricultural knowledge providers understand digital agriculture unknown understandings responses digital agriculture affect organisational identity agricultural knowledge providers early stages digi grasping digital agriculture blurs boundaries traditional akis roles digital agriculture requires responsible innovation approach akis level'\n",
            " 'highlights mashing malted barley major step brewing metalloprotease neutrase added mashing remove malt protein neutrase addition reduced amount wort soluble starch addition significantly reduced wort soluble starch molecular size increase wort fermentable sugar content'\n",
            " 'increasingly farmers realize information communications technologies potential transform nature work structure workplace longer futuristic nicety'\n",
            " 'paper reviews climate change impacts production physiology yield product quality vegetables affected shifting co'\n",
            " 'highlights soil map created dsm methods ha representativeness soil observations quantified including soil depth map covariate layer improved soil class map dsm map times detailed existing soil spatial information soil map units correspond gully density'\n",
            " 'lenet yolo cyclone sx altera'\n",
            " 'highlights entire growing season vv consistent rice dry biomass vh entire growing season vhvv produced accurate rice biomass estimates rf outperformed algorithms rice dry biomass estimation vhvv accurate rice biomass estimates recorded reproductive phase vh nn produced best rice biomass estimates reproductive phase'\n",
            " 'introduction barley important cereal crop powdery mildew one frequent diseases caused airborne ascomycete fungus blumeria graminis'\n",
            " 'deep learning based deep neural networks various structures architectures powerful many practical applications lacks enough theoretical verifications paper consider family deep convolutional neural networks applied approximate functions unit sphere'\n",
            " 'introduction field intelligent agriculture instance plant protection precision farming incremental progresses agricultural image processing classification crop pests harvest'\n",
            " 'highlights feasible speak introduction smart farming german agriculture german farmers clustered users smart products users smart connected products larger agricultural area farm enterprises complex functions farmers use within fmis'\n",
            " 'bi'\n",
            " 'introduction grazed grass economical feed source sheep temperate regions world however climatic conditions limit grass growth winter months'\n",
            " 'highlights employing deep residual network detect visible segments grapevine canopies integrating faster cnn non maximal suppression algorithm accurate detection estimating cordon trajectories full foliage canopies real time vineyard environment approach estimate cordon trajectories growth stages green shoots research provides base towards automated green shoot thinning'\n",
            " 'highlights fabricating mesoporous si al inorganic film using eco friendly raw materials cleaner facile process sustainable recyclable cu treating liquid efficient leaching resistance excellent anti mildew performance practice prolong service life add value bamboo product'\n",
            " 'highlights promising rapid tool based ftir developed analyzing sweeteners svm model indicated effective identification performance pls constructed quantify combinations five artificial sweeteners good agreement ftir hplc sweeteners test beverage'\n",
            " 'highlights three conventional dimensionality reduction algorithms compared pca unlikely distort original dataset cost information loss autoencoder provides good balance data compression exploitation sne better representing well separated clusters multi collinearity'\n",
            " 'onderzoek naar de toepasbaarheid van precisielandbouwtechnieken er wordt gekeken naar de theoretische meeropbrengst van plaatsspecifiek kunstmest strooien en bekalken hierbij wordt er ook gekeken naar de knelpunten die ondernemers ondervinden bij het investeren smart farming technieken waarom en welke technieken er wel wordt ge nvesteerd en waarom anderen niet'\n",
            " 'author kyle hartman sup marcel van der heijden sup raphael wittwer sup samiran banerjee sup jean claude walser sup klaus schlaeppi sup correction microbiome https doi org'\n",
            " 'highlights developed architecture framework iot based systems agri food framework comprises coherent set architectural viewpoints guideline applied use cases arable farming dairy fruit vegs meat supply chains framework used model cases timely punctual coherent way part large scale industrial context european iof project'\n",
            " 'introduction leaf rust caused puccinia triticina widespread rust disease wheat damaging biotic stress wheat globally causing losses around'\n",
            " 'highlights new model method detection key parts dairy cows proposed method stable antagonism environmental robustness method improves detection accuracy key parts dairy cows'\n",
            " 'highlights automatic feature detection system based image processing proposed relationship grain morphological traits controlled classification classification procedure relies image analysis multivariate statistical methods'\n",
            " 'introduction increasing global population require products animal plant production cultivation leguminous plants could help delivery plant protein well'\n",
            " 'highlights combination mask cnn dbscan segments single leaves accurately new approach fuse color depth features fpn structure proposed manifold distance better euclidean distance segmenting curled leaves pixel wise iou evaluates results accurately traditional iou'\n",
            " 'highlights vulnerability indexing mapping done following ipcc approach weights indicator variables assigned principal component analysis investigation alerted central part india highly vulnerable million ha fall high vulnerable zone producing million tons wheat madhya pradesh significant share area production focus'\n",
            " 'highlights method video key frame extraction huge motion variation put forward image enhancement method used reduce influence illumination shadows mask cnn based cattle instance segmentation contour line extraction method developed performance proposed method effective outweigh deepmask sharpmask methods'\n",
            " 'highlights improved segmentation network leveraged segment weed pixels automatically network fully uses multilayer perceptron unit approximate color based indexes exploits attention mechanics capturing long range contextual information utilized multi scale local information structured features aggregate local weed information algorithm successfully detects weed regardless arbitrary size crop growth stages'\n",
            " 'introduction soil organic matter arguably complex least understood aspect soil determines physical chemical biological properties well'\n",
            " 'highlights valeriana jatamansi important crop phytopharmaceutical industries demand herb also increasing essential oil based industries however species verge extinction due exploitation anatomy plant studied scanning electron microscope crop ecology agrotechnology elucidated commercial cultivation'\n",
            " 'highlights analyses state art sheep monitoring platforms details methods used study focus use machine learning enhance mechanism results promising easily transposed low power microprocessors'\n",
            " 'highlights rapid analysis safflower includes qualitative quantitative detection dyed safflower discriminated qualitative detection contents hsya water extract measured quantitative detection combination computer vision near infrared used rapid analysis'\n",
            " 'highlights investigated metabolic processes cold exposure tibetan hulless barley sensitive tolerant cultivars differential responses cold stress monoacylglycerol deoxyadenosine coniferin candidate biomarkers cold accumulated metabolites mainly related glutathione metabolism'\n",
            " 'highlights polysaccharide fraction bf purified fermented barley bf showed high anti tumor metastatic activity bf induced macrophage activation polarization bf augmented nk cell cytolytic activity production ifn granzyme'\n",
            " 'highlights total pheonlic metabolites identified grain developing stages phenolic metabolites greatly affected genotype drought stress two significant modules uncovered network analysis highly expressed genes five hub genes transcription factor bhlh involved phenoic pathway'\n",
            " 'highlights three nonlinear regression methods evaluated repeated random subsampling different segmentation dataset significant impact model performance random forest model high accuracy strong generalization performance models mainly consider scale information making nitrogen nutrient estimates'\n",
            " 'highlights adoption rate pa technology grassland farms still relatively low many new technologies yet appropriate technology readiness level technology research development application needs grassland specific collaboration required farmers researchers technology providers'\n",
            " 'highlights established new method assisted high speed centrifugal vortex accelerate extraction bbg hscv method reduced extraction time half increased yield extracting history exogenous physical treatment affected physicochemical behavior bbg exogenous physical treatment changed intermolecular aggregation state bbg molecules intermolecular aggregation states high level structure bbg factors influence bbg solution behavior'\n",
            " 'highlights fvwrky enhanced resistance powdery mildew arabidopsis fvwrky enhanced salt drought stress tolerance arabidopsis fvwrky overexpressing arabidopsis plants showed increased abscisic acid sensitivity fvwrky promoted drought abscisic acid induced stomatal closure'\n",
            " 'corrects article doi fnins'\n",
            " 'highlights intelligent algorithm monitoring livestock grazing behavior presented three basic grazing events detected classified acoustic signals several combinations signal processing machine learning methods evaluated different adaptive filters considered order remove trends noisy signals achieves improvement existing methods low computational cost'\n",
            " 'introduction long noncoding transcripts defined group rna transcripts exceed nt length apparent discernible coding potential previously seen'\n",
            " 'introduction continued increase world population need food well decrease natural resources led necessity making great'\n",
            " 'highlights gbrt better algorithm spatially predicting mapping som content hubei china dt bdt rf remote sensing reflectance vegetation indices proved key factors predicting som content som content topsoil varied kg mean value kg mean cropland som content hubei exhibited slight increasing trend'\n",
            " 'highlights barley straw renewable sources obtain bioactive xylooligosaccharides enzymatic hydrolysis used obtain xos diverse polymerization degrees xos characterized hplc hpaec pad ftir maldi tof ms vitro fermentation assays confirmed bifidogenic properties'\n",
            " 'introduction wheat among important widely grown crops worldwide one important grain food crops human diet wheat development'\n",
            " 'land cover landscape pattern affects atmospheric environment directly indirectly understanding atmospheric environment response land cover landscape pattern great significance maintenance improvement ecological environment paper landscape metrics pland pd lpi ed mps awmsi contag shdi shei selected remote sensing inversion pm'\n",
            " 'special issue focused recent advances integrated monitoring modelling technologies agriculture forestry selected contributions cover wide range topics including wireless field sensing systems satellite uav remote sensing ict iot applications smart farming view full text'\n",
            " 'highlights wastewater irrigation impacts soil microbial communities functional abilities wastewater irrigation increases abundance args clinical relevance soil wastewater irrigation enriches soil antibiotic residues presence antibiotic residues soil associated multiple args'\n",
            " 'many convolutional neural network models achieved great success many fields networks get deeper deeper however layer non trivial networks answer questions propose replace convolution kernels zeros compare results baseline show reach similar even performances although convolution kernels cores networks demonstrate trivial layers regular'\n",
            " 'village agronomy model package extension agriculture input supply services devised implemented oxfam reach smallholder farmers remote underserved regions rural tajikistan scenario smallholder farmers mostly lack knowledge skills high yielding agricultural technology weak access reliable quality input supply vams filled critical gap deepening outreach services harnessing power markets leveraging farmers institutions'\n",
            " 'highlights fermented black barley increases gaba total phenolic flavonoid contents cooking oil fume exposure led intestinal dysbiosis fermented black barley alleviates lung injury cooking oil fume exposed mice fermented black barley improved gut flora dysbiosis induced cof fermented black barley regulated genes involved cilium assembly axoneme'\n",
            " 'highlights present automatic method accurate segmentation live transparent fish eggs microscopic images improve edge detection remove incomplete eggs microscopic images improve watershed algorithm solve problem segmentation time consuming comparison automatic manual counting performed'\n",
            " 'estimating reference evapotranspiration et'\n",
            " 'work achieved institutional project creation physical space heated equipped according requirements demands conservation herbarium wooden files inadequate herbarium replaced appropriate shelves'\n",
            " 'introduction eating insects foods containing insects common practice many areas asia africa america united nations food agriculture organization reported'\n",
            " 'introduction apples one important fruit world china largest apple producer country world takes lot labor'\n",
            " 'introduction bread wheat one major cereal crops world global production wheat million metric tons ranking'\n",
            " 'introduction last decade multispectral imagery manifested exigent requirement analyzing many critical applications health military geology atmosphere agriculture'\n",
            " 'highlights contrast stretching technique implemented improves diseased contrast novel correlation coefficient segmentation statistical measures proposed deep architecture implemented feature extraction later selection genetic algorithm performed optimization max features'\n",
            " 'introduction classification images acquired remote sensing context land use mapping consists assigning pixel image class set'\n",
            " 'introduction perennial ryegrass become widely sown perennial forage grass temperate regions due high productivity nutritive value ability tolerate'\n",
            " 'introduction drought one major abiotic stress factors adversely affects plant growth limits crop yield therefore improving drought tolerance major crops'\n",
            " 'highlights microbial community succession highland barley wine brewing organic acids volatiles varied fermentation time correlation analysis based pls conducted acetobacter leuconostoc bacillus rhizopus correlated main flavours'\n",
            " 'highlights machine learning framework achieves favorable accuracy efficiency wake prediction adm rans coupling model efficiently produce big wake datasets machine learning model aligned turbine row power drops second turbine gradually stabilizes afterwards turbulence model plays important role accurate power prediction wind farm'\n",
            " 'introduction cereal grains main concentrate feed poultry feeding feed usability respective species cereals varied depends content nutrients anti nutrients'\n",
            " 'innovations precision agriculture created opportunities achieve greater understanding within field variability however pa adoption hindered uncertainty field specific performance return investment uncertainty could better addressed using innovative analyses provide insights variability among fields across region objectives research generate within field soil clay content variability index vi'\n",
            " 'highlights conventional flour time higher pesticide residues organic flour conventional whole grain flour time higher pesticide residues white flour organic whole grain white flours similarly low pesticide residue levels common wheat times higher pesticide residues spelt wheat flour'\n",
            " 'highlights vsla groups adoption zai technology independently improves farmers welfare interceding role vsla groups positive sls cmp models vsla groups enhances welfare impact agricultural technology adoption farmer specific institutional factors influence participation vslas'\n",
            " 'highlights experiential ag knowledge skills coding robotics generate problem solving innovations autonomous agriculture equipment innovations advancing ahead canadian policy evidence evaluation mechanisms environmental social benefits risks lacking licensing enables quick commercialization smart farming ready equipment'\n",
            " 'highlights improved cnn architecture proposed grade light stress levels novel architecture based multi scale input presented improve cnn set leaf images lettuce different light stress levels established'\n",
            " 'highlights nutrient composition highland barley summarized phychemical properties potential nutritional functions main ingredients highland barley reviewed nutritional functions whole grain highland barley revealed future research trends proposed'\n",
            " 'age misreporting pervasive low middle income countries may bias estimates key demographic indicators required track progress towards sustainable development goals existing methods improve age data often ineffective cannot adopted large scale permit estimating age entire life course'\n",
            " 'introduction farm animal health plays crucial role dairy production desirable highest possible level well among animals moreover'\n",
            " 'highlights identify reliable image relations drive unsupervised representation learning divide conquer strategy retain reliable relations images learning ensemble local representations matching random target embeddings iterative extension set reliable relations inference consolidate local representations one global representation transitivity'\n",
            " 'highlights germination changed phenolic compounds naked barley content phenolic compounds increased germination prolonged infrared drying greater phenolic compounds retention hot air drying phenolic compounds raw treated barley differentiated pls da'\n",
            " 'demonstrate machine learning enabled low cost acoustic detection protease may find application assuring quality safety dairy products drug screening molecular profiling disease diagnostics hydrophilic sio'\n",
            " 'drobek al'\n",
            " 'urban agriculture may solve issues feeding urban populations china example densely packed mega cities continue expand number size necessitating increasing food miles interestingly estimated total rooftop space china million hectares converted rooftop farming yet despite favorable reports urban farming chinese commercial sector shown little interest may explained deart'\n",
            " 'highlights soilless boost intensive vegetable production southern europe precise control water nutrient supply essential presence ballast ions limits recirculation nutrient solution modern technologies available limit water nutrient emissions nutrient management strategies agronomic choices also play key roles'\n",
            " 'author carey sup cameron sup di sup edwards sup author affiliations grid lincoln agritech ltd lincoln university'\n",
            " 'conclusions proposed method able generate accurate ct images attenuation correction delayed pet scans experiments indicate proposed method outperforms traditional methods respect quantitative pet image accuracy'\n",
            " 'highlights barley micrornas micrornas nitrogen excess responsive target mrna levels agreement cognate microrna level change identified micrornas targets respond opposite way nitrogen deficiency conditions micrornas regarded sensors nitrogen homeostasis barley plants'\n",
            " 'introduction nowadays augmented reality introduced many areas society especially since advertising mostly driven development given effects potential'\n",
            " 'accelerated advances earth observation technologies determine successful use various fields'\n",
            " 'introduction population observation form census costly often impracticable view limitation samples must used inferences population'\n",
            " 'highlights active response podosphaera pannosa infection rosa gigantea occurred later rosa longicuspis regulatory network gigantea response pannosa infection complex diverse longicuspis find two mlo members rgmlo rlmlo likely play important roles interaction rosa powdery mildew pathogen'\n",
            " 'graphical abstract image graphical abstract'\n",
            " 'highlights progress agriculture domain linked recent technological advances modern agriculture systems integrate state art technological solutions data heterogeneity key concept big data agriculture domain future agriculture systems adopt holistic approach'\n",
            " 'highlights exposure pets farm animals associated reduced risk fever longer one week associated increased risk associations observed using logistic regression machine learning methods exposure profile mainly driven pet farm animal contact observed'\n",
            " 'introduction assessment morphological traits traditionally used method description classification plant taxa agriculture cultivars often distinguished based shape size color'\n",
            " 'highlights new nanocomposite ag zno synthesized free radical polymerization nanocomposite presented high antibacterial activity inhibition rate almost coli aureus even washing cycles coated cotton fabric possessed excellent anti mildew performance also maintain basic properties cotton fabric'\n",
            " 'rigorous peer review corner stone high quality academic publishing'\n",
            " 'introduction soil degradation one important global environmental problems may worsened climate change among examples soil degradation loss organic matter'\n",
            " 'pin liquid discharges investigated activation liquids dedicated agriculture applications characterized electrical optical properties particular attention paid filaments self organized patterns occurring liquid interface show modulating interaction ambient air promote production reactive species liquids effects resulting plasma activated media reported lentils seeds'\n",
            " 'highlights provide novel evidence agricultural technologies affect urbanization structural change exploit unique natural experiment united states technologies improve crop productivity increase size agricultural sector cause de urbanization reduce size non agricultural sectors results illustrate important impact agricultural technologies labor demand determining urbanization'\n",
            " 'highlights simple decision tree algorithm classify feeding ruminating behaviours dt performs similar support vector machine rumiwatch noseband use simple dt would help implementing algorithm cow sensor would enable online measurements ingestive related cow behaviours'\n",
            " 'following publication original article authors reported ordination graphs correct symbols legend wrong'\n",
            " 'highlights developed visual servoing platform using monocular multistage image segmentation presented algorithm prevents critical failures additive manufacturing developed system allows tracking printing errors interior exterior'\n",
            " 'authors retract recent published article' 'international audience'\n",
            " 'highlights leaf disease recognition using hand crafted features shallow classifiers leaf disease recognition using deep learning problems facing crop pest disease recognition performance comparison cnn architectures leaf disease recognition recent advances crop pest disease recognition'\n",
            " 'highlights postprandial glucose lower first meal barley compared wheat bread postprandial glucose also lower second standard meal consumed barley bread second meal effects barley bread confirmed randomized control trial'\n",
            " 'highlights comprehensive review social science literature digitalization agriculture five thematic clusters extant work identified four new clusters suggested new themes include digital policy making digital agricultural system concepts digital agricultural transitions digital agriculture geography also new themes scope transdisciplinarity embedding responsible innovation digital methods'\n",
            " 'highlights serum epa level main factor linked obesity independently gender high epa bacteroides level good lean predictors independently gender gut microbiota together ffa play gender specific role obesity fecal faecalibacterium level best indicator obese linked profile males fecal bifidobacterium complements ffa levels predict obesity women'\n",
            " 'introduction silicon beneficial element improves growth development yield plants subjected different stresses however beneficial effects si depend'\n",
            " 'highlights computer vision based non contact weigh motion system prototyped methodical validation computer vision implement weight estimations field experiments conducted stationary moving vehicles experimental results vehicle weight estimations show percent error less'\n",
            " 'introduction climate change related environmental stress factors play increasingly important role performance vulnerability productivity crop plants global scale important economic'\n",
            " 'highlights development innovative food hub urban regeneration process assessed energy environmental effects evaluated cradle gate lca gwp energy consumption productive land estimated food chains innovatively gis adopted support spatial analysis results results developments towards economic sustainability discussed'\n",
            " 'chinese national food safety standard raw milk regulates milk regarded hygiene disqualified milk total bacterial count exceeds'\n",
            " 'kls priya varshini cloud nine year old vizag girl set herfirst overseas trip russia ninth standard student ap social welfare residential school'\n",
            " 'author arthur francisco araujo fernandes joao ricardo reboucas dorea guilherme jordao de magalhaes rosa computer vision digital image processing digital image analysis viewed amalgam'\n",
            " 'need large space productive make decent sustainable living farmer across united states urban rooftops rural holdings farmers'\n",
            " 'paper describes kinematics motion tracking rigid body using video recording novelty paper adaptation methods nomenclature used computer vision used multibody system dynamics way equations presented used example inverse dynamics multibody simulations driven motion tracking selected bodies paper also adapts well known zhang calibration method presented nomenclature'\n",
            " 'highlights computer vision technology improve agricultural automation systems agricultural automation systems developed intelligent direction computer vision technology provide suggestions insights farmers'\n",
            " 'highlights need public image datasets enable precision agriculture tasks public image datasets collected field conditions surveyed practices facilitating public image dataset creation discussed'\n",
            " 'highlights deep learning methods developed building real time risk warning systems gan based semi supervised learning requires scarce labeled data semi supervised model incorporates numerous unlabeled samples evaluations cnn architectures handle multi dimensional hazop data enhance warning accuracy semi supervised model better performance industrial data training'\n",
            " 'highlights iot based architecture smart irrigation using field sensors weather forecast machine learning based soil moisture prediction algorithm higher accuracy smart irrigation scheduling algorithm using predicted soil moisture rain forecast'\n",
            " 'erysiphe cichoracearum podosphaera xanthii'\n",
            " 'highlights addressing agronomical data semantic interoperability requires ontologies agroportal vocabulary ontology repository agronomy food plant sciences biodiversity agroportal features multiple ontology based services including annotation agroportal already hosts ontologies varied areas related agriculture five driving agronomic use cases illustrate agroportal enables new science'\n",
            " 'author venkata santosh kumar delhi sankarlal albert thomas construction safety matter great concern practitioners researchers worldwide even risk assessments conducted'\n",
            " 'deep learning methods using convolutional neural networks successfully applied virtually imaging problems particularly image reconstruction tasks ill posed complicated imaging models attempt put upper bounds capability baseline cnns solving image image problems applied widely used standard shelf network architecture inverse problem xor decryption noisy data show acceptable results'\n",
            " 'highlights physical chemical traits varied among barley cultivars kernel uniformity particle size affected dry matter disappearance particle size distribution impacted barley type processing processing increased dm crude protein disappearance two row versus six row barley greater dm cp disappearance'\n",
            " 'highlights typical sponge dough fermentation times produce sufficient ethanol succinic acid impact dough rheology succinic acid ethanol synergistic effect dough mixing succinic acid causes increase peak mixing resistance durum wheat flour gliadin lmw glutenin appear adding peak mixing resistance dough stability'\n",
            " 'highlights polysaccharide isolated cordyceps militaris cultivated hull less barley heteropolysaccharide backbone manp heteropolysaccharide mainly branched position galf heteropolysaccharide antioxidant immunoregulation potentials'\n",
            " 'highlights paper presents review significant research efforts crop protection using big data focus weed control management machine learning techniques big data analytics also reviewed potential using markov random fields herbicide resistance modeling ryegrass explored experiments data analytics performed data collected farms australia results revealed good performance approach'\n",
            " 'highlights urban farmers tamale ouagadougou randomly surveyed open space farms dominate commercial urban agriculture especially ouagadougou backyard farms prevalent commercialised tamale ouagadougou poor water supply constrains agriculture study cities backyard farming flourishes less rigidly planned context'\n",
            " 'minda et al error introduced propose following amendment figure insection replaced following updated figure'\n",
            " 'highlights canopy leaf scale uav data estimated wheat maize lcc best respectively red edge green blue bands important inputs modeling leaf chlorophyll content estimates accuracy differed various crop growth stages crop type affected lcc estimation accuracy support vector machine random forest algorithms estimated lcc best'\n",
            " 'highlights microcredit improve adoption agricultural technology productivity conducted randomized control trial microcredit tanzania found credit increase technology adoption productivity rice improving access credit may suffice enhance agricultural productivity'\n",
            " 'highlights factors affecting machine vision parameters optimised artificial cloud lighting condition outperformed natural lighting condition luminance colour plane able increase detection accuracy image acquisition speeds working depth showed promising results'\n",
            " 'highlights nir hsi cognize chemical component differences spatial distribution enhancing interpretability nir spectral images via pca svm analysis cnn deep learning utilized cognize viable non viable seeds approximately viability prediction accuracy naturally aged seeds quality individual seeds could assessed nondestructively rapidly'\n",
            " 'unmanned aircraft systems drones enable us record capture many scenes bird rsquo'\n",
            " 'note lieu abstract excerpt first page editors agronomy would like express sincere gratitude following reviewers assessing manuscripts view full text'\n",
            " 'introduction past decades use herbicides pesticides chemical substances continuously increased unfortunately overuse materials cause surface water pollution environmental pollution'\n",
            " 'significant sample twenty nine portuguese urban agriculture initiatives analysed article argues emerging initiatives relevant shifting post crisis approach one developmental multi level analysis finds ua portugal embraces allotment gardens urban farms short food chains deals primarily vegetables fruit takes place predominantly public institutional land championed municipalities'\n",
            " 'introduction precision agriculture refers science using advance technologies provide cost management crop growth production agriculture fields one major driver agriculture precision'\n",
            " 'highlights illustrate novel prototype based methodology tackle problem online semi supervised learning two effective strategies based clustering assumption incorporated learning process unlabeled data online modulation technique considers combine supervised learning criterion unsupervised learning criterion compared previous ossl approaches proposed algorithm achieves better classification performance lower computational cost'\n",
            " 'highlights glucan extracted fermented barley showed lower molecular weight glycosidic bond ratio structure glucan altered barley fermented fermentation process changed effects glucan physiological activities'\n",
            " 'introduction biodiversity conservation crops particular wheat one greatest challenges facing cereal breeders st century modern bread wheat varieties'\n",
            " 'highlights development cloud based software architecture using fiware allow agronomical data reliably safely stored tests verifies using proposed system enables agronomical data registration regardless hardware architecture system enables crop growth tracked users thus easy take decisions irrigation control developer point view system scalable fiware properly hosts software architecture'\n",
            " 'introduccion la infestacion de malezas ha sido estimada como un factor causante de la disminucion en el rendimiento de los cultivos que representa perdidas economicas'\n",
            " 'introduction wheat considered worldwide one important crops ensuring sustainable wheat production fulfill needs increasing population serious challenge'\n",
            " 'highlights grain size determination strongly affected environment plsr modelling provided fairly reliable prediction plump grains fraction main environmental drivers plump grains determination identified study lead better crop management assist malt industry production planning'\n",
            " 'highlights modified procedure high put format arabinoxylan extraction measurement optimized wavelength ranges xylose concentration arabinoxylan contents results wheat barley germplasm collections'\n",
            " 'highlights transformative breakthroughs required prevent world food crisis integrative plant physiology agronomy must linked purpose several examples discussed collaborative framework proposed transdisciplinary mindset establishes social ecological relevances'\n",
            " 'highlights three different modelling techniques evaluated predict first test day milk yield dairy heifers artificial neural network appears viable alternative model dhi metrics multivariate linear regression random forest subject suffer overfitting'\n",
            " 'introduction indo gangetic plain india belongs semi arid agroecosystem wherein rice wheat dominant cropping system continuous practice system intensive tillage accompanied'\n",
            " 'highlights new modeling strategy developed predict spei droughts stations shaanxi province china distributed lag non linear model outperformed ccf selecting optimal predictors specifying lag time xgboost better prediction accuracy droughts lead time months ann'\n",
            " 'highlights ax rich fractions obtained two different milling systems tdf enriched frfs fold higher respective whole grains zn se contents frfs significantly higher whole grains mineral enrichment roller milling significantly higher hammer milling'\n",
            " 'analysis literature shows two types non memristive models widely used modeling called memristive neural networks demonstrate models nothing common concept memristive elements describe either non linear resistors certain bi state systems devices without memory therefore results presented significant number publications least questionable completely irrelevant actual field memristive neural networks'\n",
            " 'highlights overview agricultural machine vision system using statistical ml algorithms supervised statistical ml algorithms include na bayes da knn svms unsupervised ones include means clustering fuzzy clustering gmm highlight limitations different statistical ml algorithms agriculture suggest effective statistical ml algorithms specific area agriculture'\n",
            " 'summer mark betten drove north des moines heart iowa farm country blistering hot thursday fourth'\n",
            " 'highlights new methodology instance segmentation based mask cnn reduced architecture backbone mask network substitution neural network non maximum suppression algorithm new open access database strawberry instance segmentation new evaluation metrics instance segmentation methodologies'\n",
            " 'objective research evaluate producers perspectives four key precision agriculture technologies terms benefits provide farms using best worst scaling choice experiment results indicate farmers perceptions benefits derived various precision agriculture technologies heterogeneous better understand farmers adoption decisions lack thereof important first understand perceptions benefits precision agriculture technologies provide'\n",
            " 'highlights urban agriculture promising solution food supply well researched investigated urban sites regarding soil contamination fertility formation mycorrhizas soils quantified greenhouse bioassay metal contamination identified levels posing concerns nutrient imbalances identified particular overfertilization'\n",
            " 'highlights pg soc stored top soils cameroon gap globals national estimate socs cameroon socs distribution consistent agroecological zones pattern cameroon idw ok hybridization machine learning algorithms showed similar performances findings vital sustainable land management strategies cameroon'\n",
            " 'highlights framework developed design operation urban farming systems ufs analyzed economically environmentally via modeling lca optimization optimum crops operating conditions case study singapore found plant factories energy efficient glass greenhouses tropical weather solar pv waste fertilizer economic sustainable means run ufs'\n",
            " 'highlights use green roofs rooftop farm versus extensive garden evaluated life cycle cost roof garden lower flat roof roof farm higher lightweight soil main economic environmental contributor roof farm survey study showed respondents preferred roof gardens farms economic environmental sustainability roof farms improved'\n",
            " 'introduction growing biomass crops marginal lands proposed feasible solution reduce pressure higher grade lands reduce competition food crops however'\n",
            " 'introducao ensino em administracao brasil preserva muito fortemente centralidade modelo gerencialista desenvolvido nos estados unidos que se pauta na concepcao utilitarista dos resultados fortalecendo logica mecanica instrumental'\n",
            " 'introduction past years remote sensing image processing used many real time applications widely used detect classify objects'\n",
            " 'highlights different soil quality indices applied evaluate soil quality different data set scoring approaches used calculate soil quality indices sqin showed better estimation soil quality comparing sqia sqiw deforestation led decrease soil quality rf technique digital soil mapping robust method monitor soil quality'\n",
            " 'highlights introduced weakly supervised deep learning industrial automation automatic visual inspection new proposal guided segmentation aggregation framework weakly supervised object detection graph based image segmentation dropscore strategy address common failures evaluation analysis collected insulator images public benchmarks'\n",
            " 'farm city toolkit setting successful urban farm michael ableman new society trade paper isbn organic farmer first time'\n",
            " 'note lieu abstract excerpt first page authors would like make following correction published paper view full text'\n",
            " 'highlights artichoke pectic oligosaccharides obtainment optimized machine learning bonds pos elucidated maldi tof analysed molecular dynamics simulation affinity individual pos microbial glycosidases studied molecular docking structure activity relationships suggested based pos molecular descriptors silico colonic fermentation specific pos described first time'\n",
            " 'highlights four colored naked barley showed diversity phenolic compounds profile colored samples differences contents phenolic compounds significant differences antioxidant ability colored naked barley significant correlation phenolic components antioxidation'\n",
            " 'highlights classification considerable challenge limited number available data deep learning transfer knowledge learnt previously novel tasks new domains methodology using pre trained model feature extraction classification transfer learning convolutional neural networks plant disease identification decision support tool help farmers controlling preventing plant diseases'\n",
            " 'introduction preserving crops increasing production constant concern vegetable growers appearance diseases external agents fungi bacteria insects forms'\n",
            " 'highlights content total grain protein higher powdery mildew infection powdery mildew caused decrease total starch amylopectin content grains proteins involved protein synthesis overabundant infected grains abundance triticin serpin hmw gs increased infected grains'\n",
            " 'highlights pd noise recognition hvdc assisted unsupervised semi supervised learning wavelet detail coefficients provides enough robust features recognition purposes unsupervised learning proves feasible discover natural number clusters dataset dunn silhouette index help check cluster quality unsupervised discovered features semi supervised learning provide efficient flexible recognition'\n",
            " 'highlights sustainable intensification catalysed self evolving smart technologies mainstream agri economics drives integration biology physical engineering assisting enabling current breeding chemistry agronomic solutions combining agri sensors robotics localised cloud based ai paradigm shift professional education biologically conversant engineers vice versa'\n",
            " 'highlights lcis irrigation tools achieve similar maize production different water supply irrisat mod approaches best solution save water integration tens irrisat approaches irrigation support reccomended'\n",
            " 'highlights system proposed classify broad leaf narrow leaf plants high speed developed svm classifier greatly improves accuracy ndvi based classifiers accuracy improved using raw reflected intensities kernel tricks overall plant discrimination accuracy achieved'\n",
            " 'highlights convolutional neural network esca disease detection vineyard unmanned aerial vehicle rgb sensor imaging system deep learning model built combination color spaces vegetation indices comparative study different parameters filters block size color spaces vegetation indices'\n",
            " 'highlights absence legal regulatory frameworks around agricultural data farmers concerns arise data licences lack privacy security benefit sharing lack trust inhibits farmers willingness share data transparent agricultural data governance build trust data sharing'\n",
            " 'highlights novel unsupervised learning method via hidden markov model discern plant stress time varying imaged global vs local plant signal intensities utilized low pass spatial filtering plant signal profile improve identification addition rate change time data profiles improve identification method automatic determination cluster number presented'\n",
            " 'highlights big data represent new self renewable resource agriculture big data increase environmental economic performance farming introduction big data agrifood systems acted speciation mechanism new power geometries challenge sustainability big data farming emerge science yet managed evaluate sustainability big data agriculture'\n",
            " 'highlights serenade aso gave variable low moderate control powdery mildew cereals limited dose response seen ha serenade aso combining serenade aso silwet gold gave limited inconsistent added effects triazoles gave superior control field greenhouse compared serenade aso application timing crucial effectiveness serenade aso'\n",
            " 'highlights mask cnn introduced overlapped apples segmentation algorithm resnet combined densenet backbone network feature extraction feature maps input rpn end end training generate roi'\n",
            " 'highlights predicted yields potential support decisions applied quantity manure yields predicted machine learning historical field weather data yields individual fields predicted first manure application helpful promote circular agriculture reduce environmental impacts'\n",
            " 'note lieu abstract excerpt first page editors agronomy would like express sincere gratitude following reviewers assessing manuscripts view full text'\n",
            " 'highlights ultraviolet radiation supplementation emerging tomato seed technology tomato seeds seedlings response dependent uv type intensity cultivar uv accelerated synchronized germination increased biomass cotyledon area moderate uv uv induce major oxidative disturbances seedlings uv beneficial effects seedlings growth vigor support use producers'\n",
            " 'highlights comparative transcriptome analysis firstly used study interaction melon powdery mildew number key genes pathways involved biotic resistance powdery mildew identified study study may provide new understanding molecular mechanisms melon resistance powdery mildew'\n",
            " 'highlights first ever national crop mapping mali ukraine south africa near real time agriculture monitoring parcel level made operational nationwide demonstration across world multi sensor eo exploitation crop monitoring sentinel time series mapping crop type resolution along growing season sen agri innovative system monitor crops country around globe'\n",
            " 'due mistake production process spelling error one author names original published version'\n",
            " 'highlights tillage systems change dynamics quantity soil organic matter salus model used study evolution soc different tillage systems conservation tillage reduced soc losses years conservation tillage precision agriculture synergy reduce co'\n",
            " 'introduction melon economically important crop worldwide production million tons per year however powdery mildew reduces'\n",
            " 'drobek al error introduced propose following amendment chemical acid alkaline hydrolysis generally used produce biostimulants animal origin raw'\n",
            " 'highlights models apple scab sensitive location wetness sensors tree canopy machine learning used create virtual wetness sensors models based virtual sensors good replacement real hardware'\n",
            " 'septembre'\n",
            " 'highlights detection fungal infection maize carried line way spectroscopy technique sensitive infection level identification computer vision effective fungal strain recognition fusion spectral image information provided improved results'\n",
            " 'highlights systematic review identifies precision agriculture related publications remote sensors used technology precision agriculture precision agriculture researched corn sugarcane wheat crops factors deciding technologies use crops identified tool supports decision technology implement found'\n",
            " 'urban peri urban farms proliferated around united states past decades although considerable attention paid impact emerging farm sector social indicators fresh food access youth engagement community development educational attainment far less attention paid research literature economic commercial promise urban based agriculture nevertheless despite high risks narrow profit margins often ass'\n",
            " 'special issue focused recent advances integrated monitoring modelling technologies agriculture forestry selected contributions cover wide range topics including wireless field sensing systems satellite uav remote sensing ict iot applications smart farming'\n",
            " 'introduction production major cereal crops needs improve feed future food demands driven population growth task challenged production constraints due'\n",
            " 'highlights deep learning significantly help fully automate image based fiber analysis already existing network architectures tailored requirements proposed method accurately analyse fiber shapes widths lengths even overlapping fibers fibers occluded clutter detected reliably'\n",
            " 'highlights image based field monitoring system automatically crop monitoring developed onion disease symptom detected automatically using deep neural networks model trained using weakly supervised learning method map iou criteria highest models developed system possible save time cost field crop cultivation'\n",
            " 'ispartof frontiers plant science vol ispartof location switzerland status published'\n",
            " 'highlights barley arabidopsis mutants cbp gene showed increased level cuticular waxes contribute better water saving mechanism increased wax deposition barley arabidopsis mutants proved cbp role wider evolutionarily context terms drought response cbp might involved regulation expression genes engaged alkane forming pathway epicuticular waxes biosynthesis'\n",
            " 'introduction image segmentation fundamental problem image processing computer vision goal divide given image regions represent different objects'\n",
            " 'highlights cold plasma activation tap water induces modification ion concentrations production consumption ions influenced operating hermetic enclosure electrical conductivity activated tap water deduced ion concentrations irrigation lentils seeds plasma activated tap water increases plant growth'\n",
            " 'agronomy editorial office mdpi st alban anlage basel switzerland agronomy mdpi com received october accepted october published october authors wish correct following'\n",
            " 'highlights effect nutritional diet lactating holstein friesian dairy cows analysis relation fat protein content milk yield importance chemical composition milk production forecasting performance machine learning approaches milk production forecasting'\n",
            " 'note lieu abstract excerpt first page error title view full text'\n",
            " 'highlights first time use computer vision recognise pig enrichment engagement hsv colour space based method proposed track object region interest inceptionv lstm used extract discriminative spatial temporal features algorithm reference value classifying similar behaviours pigs pigs preference enrichment objects also determined study'\n",
            " 'highlights examine impact cooperative membership rate speed technology adoption zambia cooperative membership increased probability technology adoption percentage points cooperative membership increased speed adoption improved maize years need policies promote farmer organizations cooperatives'\n",
            " 'highlights intelligent forecasting black frost greenhouses using ann fes models ecological anti disaster system frost irrigation greenhouses fuzzy associative memory use internet things greenhouses via learning neuro fuzzy systems smart irrigation management anti disaster frost irrigation anova data validation'\n",
            " 'introduction wheat second major crop great importance ensuring food security around globe crop losses abiotic stresses'\n",
            " 'highlights determining cow milk quality farm level simplifies improves production management dairies handheld nir spectrophotometer artificial intelligence based mobile application enables real time estimation cow milk quality parameters neural networks show admirable performance order predict cow milk quality parameters spectral data'\n",
            " 'highlights information extraction ability shallow cnn explored shallow cnn classic machine learning classifiers combined proposed methods outperform deep models several indicators'\n",
            " 'highlights segmentation classification pipeline fully relying attribute morphology strong locality approach avoids resulting foreground noise segmentation outputs regions directly avoiding component labelling step max tree structure enables feature calculation segmentation competitive classification plant regions crop weed varying plant types'\n",
            " 'empirical mathematical demonstrations importance chance corrected measures discussed new model learning proposed based empirical psychological results association learning two forms model developed informatron chance corrected perceptron adabook chance corrected adaboost procedure computational results presented show chance correction facilitates learning'\n",
            " 'highlights models evaluating agricultural technologies focus mainly ex post analysis farmsim analyses ex ante ex post impacts new agricultural technologies use fertilizers irrigation indicate higher profit baseline scenario scenario pulley system shows economic feasibility lower profit adequate intake calories proteins iron vitamin except fat calcium'\n",
            " 'highlights machine learning algorithm efficiently learn optimal site specific management based bayesian optimization techniques demonstration leaning management variables years good site specific management learned ha higher profits kg ha less nitrogen fertilizer uniform management'\n",
            " 'introduction function fertilizers maximum crop production developed countries customary well recognized nevertheless increasing prices inorganic phosphate fertilizers extensive use'\n",
            " 'phenotypic studies require large datasets accurate inference prediction collecting plant data farm labor intensive costly paper presents design architecture deployment multi robot system row crop field data collection proposed system deployed soybean research farm iowa state university'\n",
            " 'introduction major wheat disease tan spot caused fungus pyrenophora tritici repentis abbreviated ptr although ptr mainly known foliar pathogen causes'\n",
            " 'highlights adoption wsns technologies strongly affected perceptions farmers investigated small scale farmers perception regarding application wsns farmers categorized four distinctive groups majority farmers felt need external help support adopt wsn group may need different approach policies address concerns'\n",
            " 'introduction barley one significant cereal crops poaceae family important crop egypt also'\n",
            " 'highlights pathogen leveillula taurica detected moringa stenopetala pathogen erysiphe aquilegiae dc detected moringa oleifera powdery mildew infects moringa stenopetala natural habitat well plantation ethiopia'\n",
            " 'highlights nir analysis water evaluating recycling agricultural cultivation design deep learning cnn architecture nir model optimization decision tree employed cnn pooling smart feature extraction strategy realize intelligent parameter optimization shallow cnn architecture'\n",
            " 'vrier'\n",
            " 'highlights model predicted annual farm level electricity consumption within model predicted catchment level electricity consumption within electricity use per litre reduced herd size milk production increased electricity savings due milk pre cooling reduced farm size increased'\n",
            " 'highlights technology adoption core agricultural development despite visible benefits many technologies adopted farmers study used primary data examine case study shows technology must compatible local environment price new technology must competitive alternatives'\n",
            " 'highlights identification assessment farm success urbanized areas web survey among farm managers ruhr metropolis farms applying various adjustment strategies successful tourism services direct marketing successful farm location key determinant promising city adjustments strategies'\n",
            " 'highlights current bait checking method labour intensive periodic site visits site visit frequency reduced iot frameworks computer vision present computer vision pipeline rodent bait identification estimation'\n",
            " 'highlights wheat heading dates estimated daily images using convolutional neural networks rmse days cnn based method performed consistently different campaigns unseen cultivars compared experts scoring automatic method estimations robust compared phenological model predictions'\n",
            " 'highlights uranium price forecasted using multilayer feed forward neural network bayesian regularization utilized prevent overfitting ffnn different learning algorithms results compared ffnn br results ffnn br accurate technique estimation uranium price'\n",
            " 'highlights steel fibers incorporated alongside barley straws sand concrete porosity sand concrete consequently depth carbonation clearly reduced freeze thaw wetting drying significantly affect studied composite bspt fm seems constitute best compromise observation sem xrd analysis showed surface deteriorations due hcl acid'\n",
            " 'highlights breeding yield efficient barley oats finland oats probably adapt future climatic conditions better barley breeding needs improve heat resistance especially oats future climate oats shown need water barley yield oats competitiveness barley could improved higher inputs'\n",
            " 'highlights design development iot application leveraging fog computing paradigm validation application iot enabled smart dairy farming scenario real world smart farm setup full dairy herd cows blended clustering classification ml model early lameness detection cattle early lameness detection window days visual signs accuracy'\n",
            " 'highlights proposing transcoding shape representations unsupervised feature learning implementing approach dnn called shape auto transcoder evaluating sat scenarios retrieval classification shapes'\n",
            " 'highlights imaging concurrently monitoring cow body condition lameness weight novel rolling ball software tool proposed body condition assessment original moving spine segmentation modelling approach postulated real world performance comparable better manual scoring limitations conventional scoring discussed learning approach introduced'\n",
            " 'highlights barley stems self pollinated hybrid lines thermally mechanically characterized cellulose fractions hybrid lines showed higher crystallinity index thermal stability hybrid stems showed tensile strength values average higher self pollinated line improved stiffness obtained polypropylene composites reinforced hybrid lines tensile strength composites affected barley straw line'\n",
            " 'highlights autonomous agricultural vehicles classified based various characterizations various technical points considered development procedure aavs experiences hokkaido university help researchers develop new aavs details components aavs helps scientists make better selection'\n",
            " 'highlights land transformations alter spatial distribution continuity soil properties apparent electrical conductivity ndvi used map consequences differential management orchards proposed basis eca ndvi'\n",
            " 'highlights ml algorithm produced consistent coherent map landsat images considering extreme land cover present data built class expanded significantly around central business district increased study period confusion agriculture forest classification process due high intra class variability annual land use change intensity greater uniform intensity'\n",
            " 'highlights exposure objects activates fos expression hippocampus ic prh mpfc activation multiple brain regions object recognition memory generated gene expression mpfc required consolidation object memory suggest brain network storage object recognition memory'\n",
            " 'aim study propose bird detection algorithm bird detection useful counting dynamics bird study neural networks used bird detection first step learn classify bird species based previous experiments develop proof concept meta data fusion indicates fusion elevation data used increase accuracy model decrease coverage error particular'\n",
            " 'introduction powdery mildew caused fungus erisyphe diffusa important disease soybeans particularly united states paraguay brazil bolivia however disease'\n",
            " 'introduction barley important feed crop also predominant raw material production malt brewing purposes although barley physiology'\n",
            " 'introduction citrus one important crops world according data united nations food agriculture organization'\n",
            " 'highlights australian grains industry stakeholders see range benefits associated smart farming current limitations australia digital infrastructure constraining smart farming farmers sceptical benefits smart farming technologies lack trust transparency surrounding data ownership could also limit smart farming'\n",
            " 'smart farming'\n",
            " 'smart farming played significant role decision support system maximize yield minimum consumption water field agriculture main objective paper design develop innovative multilevel model ensembling accurate estimation crop coefficient'\n",
            " 'highlights branch fruits recognized color images deep learning algorithm method independent natural environment orchards significant improvement robustness algorithm global average pooling low running time ensuring real time applications precision horticulture'\n",
            " 'introduction field experiments commonly used test hypotheses agronomy physiology breeding evolution plants develop strategies ensure survival reproduction including suboptimal conditions'\n",
            " 'introduction economic importance grapes north america grapevine growers across north america grow wide range grapes mostly producing table grapes raisins wines grapes'\n",
            " 'highlights overview machine learning models climate based crop yield prediction comparision models using various error measures like rmse rrmse mae performance supervised models decision tree random forest ban svn ann tested performance unsupervised models markov chain means em dbscan apriori evinced open issues future research directions using machine learning agriculture'\n",
            " 'introduction thaumatin like proteins part large pathogenesis related gene family involved broad range defense developmental processes plants fungi animals'\n",
            " 'three decades gave issue scant attention supreme court made american pipe doctrine active part docket american'\n",
            " 'digital technologies ignited revolution agrifood domain known precision agriculture main question enabling precision agriculture scale accurate product quality control made available minimal cost leveraging existing technologies agronomists skills contribution along direction demonstrate tool accurate fruit yield estimation smartphone cameras adapting deep learning algorithms originally developed crowd counting'\n",
            " 'introduction thenac transcription factorfamilyisoneofthe largest plant specific tf families containing consensus sequences apical meristem petunias ataf cup shaped cotyledon'\n",
            " 'highlights new set machine learning approaches analyse senor data prawn ponds identification relationships water quality variables yield novel water quality variable data set prawn farm south east asia'\n",
            " 'article funding mentioned correct article missing acknowledgement section required funding correct acknowledgement listed'\n",
            " 'spatial distribution ceratitiscapitata wiedemann trap catch classified related set geographic variables identify main geographical drivers trap catch data sourced area wide integrated pest management integrated use combination available management methods target pest including biological chemical cultural management methods area wide scale'\n",
            " 'highlights current plant factories reduce phosphorus water land requirements food production current plant factories cause higher greenhouse gas emissions conventional systems energy plant factories saved emerging energy technology options solar light plant factories efficient less widely applicable artificial light plant factories comparatively less efficient widely applicable'\n",
            " 'author kyle hartman sup marcel van der heijden sup raphaa wittwer sup samiran banerjee sup jean claude walser sup klaus schlaeppi sup correction following publication original article authors reported'\n",
            " 'edition septembre'\n",
            " 'introduction soil fertility crop productivity closely related three main components soil ecosystems bio available soil nutrients soil microbiota organic matter content phosphorus'\n",
            " 'production perennial horticulture relies high degree crop management due tothat perenniality management decisions need balance short long term impacts'\n",
            " 'highlights addresses need intuitive websites facilitate precision agriculture emerging areas contributes research interactive visual analytics proposes innovative multiresolution correlation graphics agricultural data presents case study agricultural community based participatory research contributes research using drone imagery precision agriculture'\n",
            " 'increased amounts manure become issue environmental management due rapid growth livestock industry study quantified pyrolytic performance gaseous products cattle manure using thermogravimetric tg fourier transform infrared spectrometry pyrolysis gas chromatography mass spectrometry analyses pyrolysis process cattle manure determined occur three stages main reaction range'\n",
            " 'highlights provide framework understanding farmers interact big data farmers simultaneously producers users big data farmers dual role complicates institutionalization big data community actors catalyzes ways cyber physical social system operates power imbalance derives uneven access big data value'\n",
            " 'peer review essential part publication process ensuring agronomy maintains high quality standards published papers'\n",
            " 'dad package pour analyse de donn es multi groupes via les densit de probabilit associ es septi mes rencontres'\n",
            " 'highlights magnetic reconstituted bamboo board successfully fabricated fe nanoparticles body loading inside reconstituted bamboo board fe nanoparticles surface loading bamboo bundles surface fe loaded reconstituted bamboo possesses good magnetism mildew resistance'\n",
            " 'short summary artificial intelligence reveals italy air pollution mainly due fine particulate matter produced industries farms road traffic may severely affect susceptibility respiratory infections caused sars cov like pathogens'\n",
            " 'introduction agriculture sector undergoing transformation driven new technologies seems promising enable primary sector move next level'\n",
            " 'fe nps phytotoxic barley reduce germination rate pigmentation cause cell membrane injury change root morphology magnetic behavior tissues'\n",
            " 'highlights knowing amount fruit harvested leads better decisions agriculture convolutional neural networks current trend processing imagery still missing insightful analysis usability cnn fruit counting groves works presents systematically tests two cnn architectures three different groves'\n",
            " 'editorial team greatly appreciates reviewers dedicated considerable time expertise journal rigorous editorial process past months regardless whether papers finally published'\n",
            " 'sparse representation important principle unsupervised learning method order accurately identify fault condition machines desired feature distribution show population sparsity lifetime sparsity paper improve accuracy robustness classification novel fault diagnosis method named cross sparse filtering proposed based cross'\n",
            " 'using case study india short field report explores whether agro dealers may contribute promoting adoption new agricultural technologies'\n",
            " 'introduction biggest challenge facing agricultural production would produce food less land reducing impact agronomic practice issues caused changing'\n",
            " 'highlights waxy barleys genotypes showed higher glucans content lower starch amount higher viscosity normal genotypes waxy barley interesting suitable cereal enrichment bioactive compounds glucans enriched flour air classification could good ingredient functional foods preparation'\n",
            " 'introduction unmanned aircraft systems discussed cornerstone precision agriculture supporting collection timely abundant data expansive spatial scales low altitude'\n",
            " 'document presents novel datasets constructed employing icub robot equipped additional depth sensor color camera used robot acquire color depth information objects different acquisition scenarios end results large scale datasets robot computer vision applications object representation object recognition classification action recognition'\n",
            " 'authors wish correct following erratum paper'\n",
            " 'university agricultural sciences veterinary medicine cluj napoca celebrates year century half since establishment paper reviews main personalities head prestigious agricultural high school transylvania years activity'\n",
            " 'highlights carotenoids tocols profile characterization colored barley genotypes extraction made water saturated butanol acetonitrile analyzed hplc tocotrienols abundant tocopherols barley genotypes lutein representative carotenoid best colored barley lines used breeding program'\n",
            " 'conclusion although many factors impact performance classifier dataset characteristics broadly speaking unsupervised classifiers seem perform worse supervised classifiers review however note worrying prevalence demonstrably erroneous experimental results undemanding benchmarks incomplete reporting therefore encourage researchers comprehensive reporting'\n",
            " 'highlights rtk rtk applied uav flights georeferencing aerial images agriculture geolocation accuracy gcps compared true geolocation rtk rtk reduced geolocation error compared gps georeferencing'\n",
            " 'introduction precision agriculture requires sensing methodologies provide information individual crops animals last decade vision become key technology precision agriculture'\n",
            " 'highlights real time row weed crop detection classification algorithm proposed novel crop signaling technique introduced distinguish crops weeds utilized computer vision determine spatial location lettuce weed algorithm designed equipped micro jet herbicide spraying system algorithm outperformed existing methods terms classification accuracy'\n",
            " 'importance target oriented validation strategies spatio temporal prediction models illustrated using two case studies modelling air temperature antarctica modelling volumetric water content cook agronomy farm usa performance random fold cross validation compared three target oriented strategies leave location leave time leave location time cv results indicate considerable differences random fold'\n",
            " 'highlights farm business structure diversification near copenhagen dk analysed new approach examine resource use applied land owners involved ofbsd activities activities might well located urban setting existing planning regulations reflect current farm ownership patterns'\n",
            " 'author balaji veeramani sup john raymond sup pritam chanda sup background feeding growing population amidst shrinking farm lands across world requires increases innovation efficiencies agricultural output'\n",
            " 'highlights barley straw excellent support conidiospores production addition mineral salts substantially improves conidiospores production pre treating barley straw water wash favors conidiation process humidity favors conidiation harzianum'\n",
            " 'sugar beet maize soybean weeds usually controlled herbicides uniformly applied across whole field due restrictions herbicide use negative side effects mechanical weeding plays major role integrated weed management eight field experiments conducted test efficacy oem claas stereo camera'\n",
            " 'smart agriculture cyber physical agriculture management concept involved observing measuring responding variability crops agriculture management cycle paper devoted intelligent robotics smart agriculture robotics demand analysis key technologies proposed step step including robotics vision modeling decision making robotics pattern recognition human computer interaction decision robotics function development test verification'\n",
            " 'introduction semantic segmentation one important research methods computer vision task classify pixel point scene classes'\n",
            " 'introduction winter wheat second primary crop widely cultivated north china plain significant production area china'\n",
            " 'highlights main behaviours dairy cows successfully predicted using accelerometer data extreme gradient boosting followed viterbi algorithm led best results postures difficult discriminate accelerometer neck holstein cows farms equipped observed leading large dataset independent signal sequences stratification used validate models'\n",
            " 'amendment paper published accessed via original article'\n",
            " 'highlights hybrid nanomaterial based gas sensing array used pesticide detection pesticide commercially available organophosphate based chloract ec array successfully distinguished relative humidity pesticide successful operation array validated via pca method study expands limited available results related pesticide gas sensors'\n",
            " 'introduction climate change one great challenges century order develop adequate mitigation measures greenhouse gas emissions economic sectors including agriculture need'\n",
            " 'web'\n",
            " 'introduction rapid population growth developing countries means food required meet demands growing populations rain fed wheat barley major grain crops'\n",
            " 'highlights analyse review monitoring chain agricultural process systematize use data acquisition data integration platforms propose free diy tools quickly create monitoring solutions pa pv intensify use technology pa pv practices mysense solution address common pa pv issues related data management'\n",
            " 'introduction fertilizers important expensive inputs agricultural production great challenge increase crop productivity fulfill food demand'\n",
            " 'highlights biochar application improved soil nitrate potassium retention phosphate biochar application null effects pak choi biomass accumulation biochar application increased carbohydrates reduced amimo acids pak choi biochar application increased glucosinolates flavonoids production pak choi'\n",
            " 'highlights cloud ai based application developed analyze visualize uav collected data interactive user friendly application automatically create tree inventories assess plant characteristics simplifies data processing visualization procedures promotes adoption uavs provide low cost consistent rapid method field survey plant phenotyping'\n",
            " 'mochizuki fukumoto ohara et al study protective role rare sugar tagatose plant disease focus effects downy mildews delineate metabolic pathway blocks initial infection work paves way development safe fungicidal agrochemicals using natural products'\n",
            " 'highlights machine learning used predict physiological responses dairy cows environmental heat stressors predictors machine learning used rank effect environmental heat stressors air temperature highest effect physiological response wind speed minimal effects physiological response'\n",
            " 'authors would like make following correction published paper'\n",
            " 'kb insertion hvmate indel hvaact qtls qtl qsur yf qtls'\n",
            " 'highlights cows activity modified episode subacute ruminal acidosis thanks machine learning one predict cow activity one day another discrepancies ml predicted observed activity reveal abnormal behaviour knnr seems efficient algorithm detecting abnormal activity disease'\n",
            " 'highlights study provides tools shifting wild harvest towards cultivating wild medicinal plants ecological niche modelling studied taxa showed areas high low suitability multi taxon indices revealed underlying spatial patterns taxa correlations interactive application created disseminate results non scientists study provides example decision support tool conservation'\n",
            " 'highlights barley bran good source dietary fibers glucan different amylolytic proteolytic xylolytic enzymes used extraction extraction affects molecular rheological features fermentability fiber enzymatically extracted fibers different vitro fecal fermentation profiles profiles assessed based ph gas acetate propionate butyrate'\n",
            " 'introduction significant agricultural system practiced shallow acidic soils south portugal agro forestry pastoral montado system system characterized'\n",
            " 'abstract available item'\n",
            " 'highlights new trends micronutrient fertilization discussed controlled release micronutrient fertilizers future precision agriculture crf application eliminates problem fertilization residues agri food sector eco friendly fertilizers'\n",
            " 'prediction method mass volume cherry tomato based computer vision system machine learning algorithms introduced study relation tomato mass volume established'\n",
            " 'highlights face recognition humans well studied proven biometric precision agriculture requires individual animals identified reliably current methods rfid shortcomings adapt approaches human literature farm pig face recognition accuracy achieved images pigs using cnn'\n",
            " 'highlights study examined factors affecting bird diversity medium sized tropical city human disturbance negatively influenced species richness occupancy part human disturbance also associated building height open green cover positive effect occupancy probablity species however amount built structure associated diversity'\n",
            " 'agrain wheat considered transitional novel marking thematic shift ngugi wa thiong oeuvre also turn career'\n",
            " 'highlights developed strawberry harvesting robot cable driven gripper gripper robust localisation errors introduced vision module subsystems integrated complete system system evaluated farm failure cases analysed picking cycle time success rate farm setting'\n",
            " 'highlights vvbzip constitutively expressed induced pathogens sa ja grapes vvbzip localized nucleus transcriptional activation activity vvbzip contributes disease resistance activation sa pathway arabidopsis'\n",
            " 'introduction last years world production onion doubled moving million hectares land million'\n",
            " 'highlights efficient pipeline localizing transporting managing tropical fruits fast agricultural resources infrastructure detection aerial imagery density map production types fruits based detection result resources collection path optimization based specific scenarios objectives'\n",
            " 'introduction peaches nectarines produced sup ha worldwide mainland china accounted total area followed spain italy'\n",
            " 'highlights rgb vine images taken go using mobile sensing platform rgb vine images taken commercial vineyard field conditions deep learning algorithm able detect inflorescences count flowers number actual flowers could estimated number detected flowers yield estimation could performed pre flowering days harvest'\n",
            " 'keywords image analysis machine vision video analysis visual inspection diagnostics industrial robotic vision systems computer vision applications become one rapidly developing areas automation'\n",
            " 'note lieu abstract excerpt first page peer review essential part publication process ensuring agronomy maintains high quality standards published papers view full text'\n",
            " 'introduction nets long history application agriculture protectng crop wind hail excessive solar radiaton birds etic since last decade'\n",
            " 'highlights evaluating tea quality using lab made computer vision morphological features identification models tea quality created using non linear chemometrics ls svm svm implemented three different kernels polynomial kernel ls svm model yields satisfactory results accuracy'\n",
            " 'keywords wheat drought machine learning affordable phenotyping introduction meeting food demands growing world population challenging task farmers scientists policymakers wheat one'\n",
            " 'author timo korthals mikkel kragh peter christiansen henrik karstoft rasmus jorgensen ulrich ruckert today agricultural vehicles available automatically perform tasks weed detection spraying'\n",
            " 'highlights open source software deeplabcut reliably tracks finger tapping smartphone video movement disorder specialists rated finger tap bradykinesia mbrs updrs deeplabcut measures showed good correlation clinician ratings contactless method quantify bradykinesia without special equipment'\n",
            " 'introduction deer species utilized humans world wide hunting production meat animal products centuries deer meat venison'\n",
            " 'author jinfei feng fengbo li xiyue zhou chunchun xu long ji zhongdu chen fuping fang introduction agriculture main source anthropogenic greenhouse gas emissions contributing'\n",
            " 'introduction soil nitrogen availability usually limits plant yields large quantities synthetic fertilizers applied ensure maximum productivity however excessive use'] -------------------- 1848\n"
          ],
          "name": "stdout"
        }
      ]
    },
    {
      "cell_type": "code",
      "metadata": {
        "colab": {
          "base_uri": "https://localhost:8080/"
        },
        "id": "KJQb8mEHPuV3",
        "outputId": "b2424e44-89aa-4a24-a76e-8a9975e7da69"
      },
      "source": [
        "pairs[1]"
      ],
      "execution_count": 36,
      "outputs": [
        {
          "output_type": "execute_result",
          "data": {
            "text/plain": [
              "['andelbrot sets julia sets picard mann orbit',\n",
              " 'purpose paper introduce mandelbrot julia sets using picard mann iteration procedure escape criteria established plays important role generate mandelbrot julia sets also numerous graphical pictures sets visualized certain examples recognized presented results shows fractal images generated picard mann iteration procedure entirely different generated mann orbit']"
            ]
          },
          "metadata": {
            "tags": []
          },
          "execution_count": 36
        }
      ]
    },
    {
      "cell_type": "code",
      "metadata": {
        "colab": {
          "base_uri": "https://localhost:8080/"
        },
        "id": "SgXRWzJJPuV3",
        "outputId": "5676e839-89a3-449a-e06a-1d73644ca265"
      },
      "source": [
        "pairs[2]"
      ],
      "execution_count": 37,
      "outputs": [
        {
          "output_type": "execute_result",
          "data": {
            "text/plain": [
              "['icrowave irradiation differentially affect physicochemical properties waxy non waxy hull less barley starch',\n",
              " 'highlights microwave altered properties isolated kernel hull less barley starches disrupted crystalline region greater kernel starches peak viscosity kernel starches decreased microwaving increased amylose plays profound role properties microwaved starch']"
            ]
          },
          "metadata": {
            "tags": []
          },
          "execution_count": 37
        }
      ]
    },
    {
      "cell_type": "code",
      "metadata": {
        "id": "y4gj8ZDqPuV4"
      },
      "source": [
        "SOS_token = 0\n",
        "EOS_token = 1"
      ],
      "execution_count": 38,
      "outputs": []
    },
    {
      "cell_type": "code",
      "metadata": {
        "id": "Cp_j0TzvPuV4"
      },
      "source": [
        "def indexesFromSentence(lang, sentence):\n",
        "    return [lang.word2index[word] for word in sentence.split(' ')]\n",
        "\n",
        "def tensorFromSentence(lang, sentence):\n",
        "    indexes = indexesFromSentence(lang, sentence)\n",
        "    indexes.append(EOS_token)\n",
        "    return torch.tensor(indexes, dtype=torch.long, device=device).view(-1, 1)\n",
        "\n",
        "def tensorsFromPair(pair):\n",
        "    input_tensor = tensorFromSentence(input_lang, pair[0])\n",
        "    target_tensor = tensorFromSentence(output_lang, pair[1])\n",
        "    return (input_tensor, target_tensor)"
      ],
      "execution_count": 39,
      "outputs": []
    },
    {
      "cell_type": "code",
      "metadata": {
        "id": "-nwRwXyKPuV4"
      },
      "source": [
        "from __future__ import unicode_literals, print_function, division\n",
        "from io import open\n",
        "import unicodedata\n",
        "import string\n",
        "import re\n",
        "import random\n",
        "\n",
        "import torch\n",
        "import torch.nn as nn\n",
        "from torch import optim\n",
        "import torch.nn.functional as F\n",
        "\n",
        "device = torch.device(\"cuda\" if torch.cuda.is_available() else \"cpu\")"
      ],
      "execution_count": 40,
      "outputs": []
    },
    {
      "cell_type": "code",
      "metadata": {
        "id": "PSTUpZpOPuV4"
      },
      "source": [
        "class EncoderRNN(nn.Module):\n",
        "    def __init__(self, input_size, hidden_size):\n",
        "        super(EncoderRNN, self).__init__()\n",
        "        self.hidden_size = hidden_size\n",
        "\n",
        "        self.embedding = nn.Embedding(input_size, hidden_size)\n",
        "        self.LSTM = nn.LSTM(hidden_size, hidden_size)\n",
        "\n",
        "    def forward(self, input, hidden):\n",
        "        embedded = self.embedding(input).view(1, 1, -1)\n",
        "        output = embedded\n",
        "        output, hidden = self.LSTM(output, hidden)\n",
        "        return output, hidden\n",
        "\n",
        "    def initHidden(self):\n",
        "        return (torch.zeros(1, 1, self.hidden_size, device=device),torch.zeros(1, 1, self.hidden_size, device=device))"
      ],
      "execution_count": 41,
      "outputs": []
    },
    {
      "cell_type": "code",
      "metadata": {
        "id": "GoCTFiy4PuV5"
      },
      "source": [
        "class DecoderRNN(nn.Module):\n",
        "    def __init__(self, hidden_size, output_size):\n",
        "        super(DecoderRNN, self).__init__()\n",
        "        self.hidden_size = hidden_size\n",
        "\n",
        "        self.embedding = nn.Embedding(output_size, hidden_size)\n",
        "        self.LSTM = nn.LSTM(hidden_size, hidden_size)\n",
        "        self.out = nn.Linear(hidden_size, output_size)\n",
        "        self.softmax = nn.LogSoftmax(dim=2)\n",
        "\n",
        "    def forward(self, input, hidden):\n",
        "        output = self.embedding(input).view(1, 1, -1)\n",
        "        output = F.relu(output)\n",
        "        output, hidden = self.LSTM(output, hidden)\n",
        "        output = self.softmax(self.out(output[0]))\n",
        "        return output, hidden\n",
        "\n",
        "    def initHidden(self):\n",
        "        return torch.zeros(1, 1, self.hidden_size, device=device)"
      ],
      "execution_count": 42,
      "outputs": []
    },
    {
      "cell_type": "code",
      "metadata": {
        "id": "SNAEuZg9PuV5"
      },
      "source": [
        "MAX_LENGTH=150"
      ],
      "execution_count": 43,
      "outputs": []
    },
    {
      "cell_type": "code",
      "metadata": {
        "id": "JpHgr65WPuV5"
      },
      "source": [
        "class AttnDecoderRNN(nn.Module):\n",
        "    def __init__(self, hidden_size, output_size, dropout_p=0.1, max_length=MAX_LENGTH):\n",
        "        super(AttnDecoderRNN, self).__init__()\n",
        "        self.hidden_size = hidden_size\n",
        "        self.output_size = output_size\n",
        "        self.dropout_p = dropout_p\n",
        "        self.max_length = max_length\n",
        "\n",
        "        self.embedding = nn.Embedding(self.output_size, self.hidden_size)\n",
        "        self.attn = nn.Linear(self.hidden_size*2 , self.max_length)\n",
        "        self.attn_combine = nn.Linear(self.hidden_size*2 , self.hidden_size)\n",
        "        self.dropout = nn.Dropout(self.dropout_p)\n",
        "        self.LSTM = nn.LSTM(self.hidden_size, self.hidden_size)\n",
        "        self.out = nn.Linear(self.hidden_size, self.output_size)\n",
        "\n",
        "        #print('Decoder --- atndecoder')\n",
        "\n",
        "    def forward(self, input, hidden, encoder_outputs):\n",
        "        #print(\"inside forward decoder\")\n",
        "        embedded = self.embedding(input).view(1, 1, -1)\n",
        "        embedded = self.dropout(embedded)\n",
        "\n",
        "        #print(\"embedded size\", embedded.size())\n",
        "        #print(embedded[0].size()) #1,300\n",
        "        #print(hidden[0].size()) # 1, 1, 300\n",
        "        #print(\"diff or not\")\n",
        "\n",
        "        #temp = torch.cat((embedded[0], hidden[0]), 1)\n",
        "        \n",
        "        #print(temp)\n",
        "        #print(temp.size())\n",
        "\n",
        "        attn_weights = F.softmax(self.attn(torch.cat((embedded[0], hidden[0][0]), 1)), dim=1)\n",
        "        #print(\"after getting attn weights softmax\")\n",
        "        #print(attn_weights.size())\n",
        "        attn_applied = torch.bmm(attn_weights.unsqueeze(0),\n",
        "                                 encoder_outputs.unsqueeze(0))\n",
        "\n",
        "        output = torch.cat((embedded[0], attn_applied[0]), 1)\n",
        "        output = self.attn_combine(output).unsqueeze(0)\n",
        "\n",
        "        output = F.relu(output)\n",
        "        output, hidden = self.LSTM(output, hidden)\n",
        "\n",
        "        output = F.log_softmax(self.out(output[0]), dim=1)\n",
        "        return output, hidden, attn_weights\n",
        "\n",
        "    def initHidden(self):\n",
        "        return torch.zeros(1, 1, self.hidden_size, device=device)"
      ],
      "execution_count": 44,
      "outputs": []
    },
    {
      "cell_type": "code",
      "metadata": {
        "id": "zcctRKUHPuV5"
      },
      "source": [
        "#teacher_forcing_ratio = 0.5\n",
        "def train(input_tensor, target_tensor, encoder, decoder, encoder_optimizer, decoder_optimizer, criterion, max_length=MAX_LENGTH):\n",
        "    encoder_hidden = encoder.initHidden()\n",
        "\n",
        "    encoder_optimizer.zero_grad()\n",
        "    decoder_optimizer.zero_grad()\n",
        "\n",
        "    input_length = input_tensor.size(0)\n",
        "    target_length = target_tensor.size(0)\n",
        "\n",
        "    encoder_outputs = torch.zeros(max_length, encoder.hidden_size, device=device)\n",
        "\n",
        "    loss = 0\n",
        "    #print('bbbbbbb-->>> input length', input_length)\n",
        "\n",
        "    for ei in range(input_length):\n",
        "        encoder_output, encoder_hidden = encoder(input_tensor[ei], encoder_hidden)\n",
        "        #print(\"priting before error\")\n",
        "        #print(encoder_output.size())\n",
        "        #print(encoder_outputs.size())\n",
        "        temp = encoder_output[0, 0]\n",
        "        #print(temp)\n",
        "        encoder_outputs[ei] = temp\n",
        "\n",
        "    decoder_input = torch.tensor([[SOS_token]], device=device)\n",
        "\n",
        "    decoder_hidden = encoder_hidden\n",
        "\n",
        "    #use_teacher_forcing = True if random.random() < teacher_forcing_ratio else False\n",
        "    #Without teacher forcing: use its own predictions as the next input\n",
        "\n",
        "    #print('aaaaa-->>>')\n",
        "\n",
        "    for di in range(target_length):\n",
        "        decoder_output, decoder_hidden, decoder_attention = decoder(\n",
        "        decoder_input, decoder_hidden, encoder_outputs)\n",
        "\n",
        "\n",
        "        topv, topi = decoder_output.topk(1)\n",
        "      \n",
        "        decoder_input = topi.squeeze().detach()  # detach from history as input\n",
        "      \n",
        "        loss += criterion(decoder_output, target_tensor[di])\n",
        "      \n",
        "        if decoder_input.item() == EOS_token:\n",
        "            break\n",
        "\n",
        "    loss.backward()\n",
        "\n",
        "    encoder_optimizer.step()\n",
        "    decoder_optimizer.step()\n",
        "\n",
        "    return loss.item() / target_length"
      ],
      "execution_count": 45,
      "outputs": []
    },
    {
      "cell_type": "code",
      "metadata": {
        "id": "eGIsd1G7PuV6"
      },
      "source": [
        "import time\n",
        "import math\n",
        "\n",
        "\n",
        "def asMinutes(s):\n",
        "    m = math.floor(s / 60)\n",
        "    s -= m * 60\n",
        "    return '%dm %ds' % (m, s)\n",
        "\n",
        "\n",
        "def timeSince(since, percent):\n",
        "    now = time.time()\n",
        "    s = now - since\n",
        "    es = s / (percent)\n",
        "    rs = es - s\n",
        "    return '%s (- %s)' % (asMinutes(s), asMinutes(rs))"
      ],
      "execution_count": 46,
      "outputs": []
    },
    {
      "cell_type": "code",
      "metadata": {
        "id": "Xjf96B34PuV6"
      },
      "source": [
        "import matplotlib.pyplot as plt\n",
        "plt.switch_backend('agg')\n",
        "import matplotlib.ticker as ticker\n",
        "import numpy as np\n",
        "\n",
        "\n",
        "def showPlot(points):\n",
        "    plt.figure()\n",
        "    fig, ax = plt.subplots()\n",
        "    # this locator puts ticks at regular intervals\n",
        "    loc = ticker.MultipleLocator(base=0.2)\n",
        "    ax.yaxis.set_major_locator(loc)\n",
        "    plt.plot(points)"
      ],
      "execution_count": 47,
      "outputs": []
    },
    {
      "cell_type": "code",
      "metadata": {
        "id": "o2i32PjPPuV6"
      },
      "source": [
        "def trainIters(encoder, decoder, n_iters, print_every=1000, plot_every=100, learning_rate=0.01):\n",
        "    print(\"Training....\")\n",
        "    start = time.time()\n",
        "    plot_losses = []\n",
        "    print_loss_total = 0  # Reset every print_every\n",
        "    plot_loss_total = 0  # Reset every plot_every\n",
        "\n",
        "    encoder_optimizer = optim.SGD(encoder.parameters(), lr=learning_rate)\n",
        "    decoder_optimizer = optim.SGD(decoder.parameters(), lr=learning_rate)\n",
        "    training_pairs = [tensorsFromPair(random.choice(pairs))\n",
        "                      for i in range(n_iters)]\n",
        "    criterion = nn.NLLLoss()\n",
        "\n",
        "    for iter in range(1, n_iters + 1):\n",
        "        if iter% 1000 == 0:\n",
        "            print(iter,\"/\",n_iters + 1)\n",
        "        training_pair = training_pairs[iter - 1]\n",
        "        input_tensor = training_pair[0]\n",
        "        target_tensor = training_pair[1]\n",
        "\n",
        "        input_length = input_tensor.size(0)\n",
        "        if(input_length > 150):\n",
        "          #print(input_length)\n",
        "          continue\n",
        "      \n",
        "        loss = train(input_tensor, target_tensor, encoder,decoder, encoder_optimizer, decoder_optimizer, criterion)\n",
        "        print_loss_total += loss\n",
        "        plot_loss_total += loss\n",
        "\n",
        "        if iter % print_every == 0:\n",
        "            print_loss_avg = print_loss_total / print_every\n",
        "            print_loss_total = 0\n",
        "            print('%s (%d %d%%) %.4f' % (timeSince(start, iter / n_iters),\n",
        "                                         iter, iter / n_iters * 100, print_loss_avg))\n",
        "\n",
        "        if iter % plot_every == 0:\n",
        "            plot_loss_avg = plot_loss_total / plot_every\n",
        "            plot_losses.append(plot_loss_avg)\n",
        "            plot_loss_total = 0\n",
        "\n",
        "    showPlot(plot_losses)"
      ],
      "execution_count": 48,
      "outputs": []
    },
    {
      "cell_type": "code",
      "metadata": {
        "id": "R34qstO1PuV6"
      },
      "source": [
        "def evaluate(encoder, decoder, sentence, max_length=MAX_LENGTH):\n",
        "    with torch.no_grad():\n",
        "        input_tensor = tensorFromSentence(input_lang, sentence)\n",
        "        input_length = input_tensor.size()[0]\n",
        "        encoder_hidden = encoder.initHidden()\n",
        "\n",
        "        encoder_outputs = torch.zeros(max_length, encoder.hidden_size, device=device)\n",
        "\n",
        "        for ei in range(input_length):\n",
        "            encoder_output, encoder_hidden = encoder(input_tensor[ei],encoder_hidden)\n",
        "            encoder_outputs[ei] += encoder_output[0, 0]\n",
        "\n",
        "        decoder_input = torch.tensor([[SOS_token]], device=device)  # SOS\n",
        "\n",
        "        decoder_hidden = encoder_hidden\n",
        "\n",
        "        decoded_words = []\n",
        "        decoder_attentions = torch.zeros(max_length, max_length)\n",
        "\n",
        "        #print('cccccc->>>>')\n",
        "\n",
        "        for di in range(max_length):\n",
        "            decoder_output, decoder_hidden, decoder_attention = decoder(\n",
        "                decoder_input, decoder_hidden, encoder_outputs)\n",
        "            decoder_attentions[di] = decoder_attention.data\n",
        "            topv, topi = decoder_output.data.topk(1)\n",
        "            if topi.item() == EOS_token:\n",
        "                decoded_words.append('<EOS>')\n",
        "                break\n",
        "            else:\n",
        "                decoded_words.append(output_lang.index2word[topi.item()])\n",
        "\n",
        "            decoder_input = topi.squeeze().detach()\n",
        "\n",
        "        return decoded_words, decoder_attentions[:di + 1]"
      ],
      "execution_count": 49,
      "outputs": []
    },
    {
      "cell_type": "code",
      "metadata": {
        "id": "3zWU7ISNPuV7"
      },
      "source": [
        "def evaluateRandomly(encoder, decoder, n=5):\n",
        "    titles=list()\n",
        "    abstracts=list()\n",
        "    pred_abstracts=list()    \n",
        "    for i in range(n):\n",
        "        pair = random.choice(pairs)\n",
        "        \n",
        "        if(len(pair[0].split())>=150):\n",
        "            continue\n",
        "        else:\n",
        "            if(i%1000==0):\n",
        "                print(i*100/n,\"% complete\")\n",
        "          \n",
        "            #print('>', pair[0])\n",
        "            titles.append(pair[0])\n",
        "          #print('=', pair[1])\n",
        "            abstracts.append(pair[1])\n",
        "            output_words, attentions = evaluate(encoder, decoder, pair[0])\n",
        "            output_sentence = ' '.join(output_words)\n",
        "            pred_abstracts.append(output_sentence)\n",
        "            #print('<', output_sentence)\n",
        "            #print('')\n",
        "    return(titles,abstracts,pred_abstracts)"
      ],
      "execution_count": 64,
      "outputs": []
    },
    {
      "cell_type": "code",
      "metadata": {
        "colab": {
          "base_uri": "https://localhost:8080/",
          "height": 1000
        },
        "id": "Ae1HZNI1PuV7",
        "outputId": "9c21347d-6553-4413-e474-c028c64fcb76"
      },
      "source": [
        "hidden_size = 300\n",
        "encoder1 = EncoderRNN(input_lang.n_words, hidden_size).to(device)\n",
        "attn_decoder1 = AttnDecoderRNN(hidden_size, output_lang.n_words, dropout_p=0.1).to(device)\n",
        "\n",
        "trainIters(encoder1, attn_decoder1, 150000, print_every=1000)"
      ],
      "execution_count": 51,
      "outputs": [
        {
          "output_type": "stream",
          "text": [
            "Training....\n",
            "1000 / 150001\n",
            "1m 47s (- 267m 34s) (1000 0%) 1.4212\n",
            "2000 / 150001\n",
            "3m 35s (- 266m 23s) (2000 1%) 1.4643\n",
            "3000 / 150001\n",
            "5m 50s (- 285m 53s) (3000 2%) 1.9789\n",
            "4000 / 150001\n",
            "8m 33s (- 312m 24s) (4000 2%) 2.5177\n",
            "5000 / 150001\n",
            "11m 43s (- 340m 11s) (5000 3%) 2.9550\n",
            "6000 / 150001\n",
            "15m 22s (- 368m 53s) (6000 4%) 3.0386\n",
            "7000 / 150001\n",
            "19m 25s (- 396m 52s) (7000 4%) 3.0564\n",
            "8000 / 150001\n",
            "23m 48s (- 422m 33s) (8000 5%) 2.7528\n",
            "9000 / 150001\n",
            "28m 26s (- 445m 34s) (9000 6%) 2.5496\n",
            "10000 / 150001\n",
            "33m 12s (- 464m 57s) (10000 6%) 2.1339\n",
            "11000 / 150001\n",
            "38m 16s (- 483m 35s) (11000 7%) 1.9688\n",
            "12000 / 150001\n",
            "43m 29s (- 500m 9s) (12000 8%) 1.7596\n",
            "13000 / 150001\n",
            "48m 51s (- 514m 57s) (13000 8%) 1.6460\n",
            "14000 / 150001\n",
            "54m 14s (- 526m 53s) (14000 9%) 1.5070\n",
            "15000 / 150001\n",
            "59m 41s (- 537m 9s) (15000 10%) 1.3826\n",
            "16000 / 150001\n",
            "65m 8s (- 545m 32s) (16000 10%) 1.2741\n",
            "17000 / 150001\n",
            "70m 33s (- 552m 2s) (17000 11%) 1.2620\n",
            "18000 / 150001\n",
            "76m 7s (- 558m 12s) (18000 12%) 1.1786\n",
            "19000 / 150001\n",
            "81m 39s (- 562m 58s) (19000 12%) 1.0608\n",
            "20000 / 150001\n",
            "87m 22s (- 567m 55s) (20000 13%) 1.0425\n",
            "21000 / 150001\n",
            "93m 14s (- 572m 43s) (21000 14%) 1.0463\n",
            "22000 / 150001\n",
            "99m 5s (- 576m 34s) (22000 14%) 0.9048\n",
            "23000 / 150001\n",
            "105m 3s (- 580m 5s) (23000 15%) 0.8649\n",
            "24000 / 150001\n",
            "111m 5s (- 583m 15s) (24000 16%) 0.8510\n",
            "25000 / 150001\n",
            "117m 5s (- 585m 28s) (25000 16%) 0.8075\n",
            "26000 / 150001\n",
            "122m 52s (- 586m 3s) (26000 17%) 0.6873\n",
            "27000 / 150001\n",
            "128m 51s (- 587m 1s) (27000 18%) 0.7072\n",
            "28000 / 150001\n",
            "134m 43s (- 587m 1s) (28000 18%) 0.6176\n",
            "29000 / 150001\n",
            "140m 41s (- 587m 2s) (29000 19%) 0.5614\n",
            "30000 / 150001\n",
            "146m 45s (- 587m 3s) (30000 20%) 0.5298\n",
            "31000 / 150001\n",
            "152m 43s (- 586m 16s) (31000 20%) 0.5106\n",
            "32000 / 150001\n",
            "158m 39s (- 585m 4s) (32000 21%) 0.4301\n",
            "33000 / 150001\n",
            "164m 39s (- 583m 47s) (33000 22%) 0.4068\n",
            "34000 / 150001\n",
            "170m 57s (- 583m 15s) (34000 22%) 0.3552\n",
            "35000 / 150001\n",
            "177m 12s (- 582m 13s) (35000 23%) 0.3419\n",
            "36000 / 150001\n",
            "183m 20s (- 580m 35s) (36000 24%) 0.2960\n",
            "37000 / 150001\n",
            "189m 49s (- 579m 45s) (37000 24%) 0.2846\n",
            "38000 / 150001\n",
            "196m 11s (- 578m 15s) (38000 25%) 0.2244\n",
            "39000 / 150001\n",
            "202m 31s (- 576m 26s) (39000 26%) 0.2125\n",
            "40000 / 150001\n",
            "208m 51s (- 574m 22s) (40000 26%) 0.2082\n",
            "41000 / 150001\n",
            "215m 17s (- 572m 20s) (41000 27%) 0.1826\n",
            "42000 / 150001\n",
            "221m 38s (- 569m 55s) (42000 28%) 0.1599\n",
            "43000 / 150001\n",
            "228m 8s (- 567m 43s) (43000 28%) 0.1521\n",
            "44000 / 150001\n",
            "234m 39s (- 565m 18s) (44000 29%) 0.1168\n",
            "45000 / 150001\n",
            "241m 8s (- 562m 40s) (45000 30%) 0.1226\n",
            "46000 / 150001\n",
            "247m 33s (- 559m 42s) (46000 30%) 0.1051\n",
            "47000 / 150001\n",
            "253m 41s (- 555m 58s) (47000 31%) 0.1062\n",
            "48000 / 150001\n",
            "259m 50s (- 552m 9s) (48000 32%) 0.0914\n",
            "49000 / 150001\n",
            "265m 52s (- 548m 0s) (49000 32%) 0.0928\n",
            "50000 / 150001\n",
            "271m 49s (- 543m 39s) (50000 33%) 0.0978\n",
            "51000 / 150001\n",
            "277m 51s (- 539m 21s) (51000 34%) 0.0611\n",
            "52000 / 150001\n",
            "283m 54s (- 535m 4s) (52000 34%) 0.0663\n",
            "53000 / 150001\n",
            "290m 1s (- 530m 47s) (53000 35%) 0.0856\n",
            "54000 / 150001\n",
            "296m 4s (- 526m 21s) (54000 36%) 0.0977\n",
            "55000 / 150001\n",
            "302m 16s (- 522m 5s) (55000 36%) 0.0676\n",
            "56000 / 150001\n",
            "308m 18s (- 517m 31s) (56000 37%) 0.0718\n",
            "57000 / 150001\n",
            "314m 31s (- 513m 10s) (57000 38%) 0.0783\n",
            "58000 / 150001\n",
            "320m 30s (- 508m 24s) (58000 38%) 0.0763\n",
            "59000 / 150001\n",
            "326m 38s (- 503m 48s) (59000 39%) 0.0536\n",
            "60000 / 150001\n",
            "332m 45s (- 499m 8s) (60000 40%) 0.0650\n",
            "61000 / 150001\n",
            "338m 55s (- 494m 30s) (61000 40%) 0.0700\n",
            "62000 / 150001\n",
            "345m 14s (- 490m 1s) (62000 41%) 0.0452\n",
            "63000 / 150001\n",
            "351m 28s (- 485m 22s) (63000 42%) 0.0677\n",
            "64000 / 150001\n",
            "357m 34s (- 480m 29s) (64000 42%) 0.0592\n",
            "65000 / 150001\n",
            "363m 43s (- 475m 38s) (65000 43%) 0.0536\n",
            "66000 / 150001\n",
            "369m 49s (- 470m 41s) (66000 44%) 0.0610\n",
            "67000 / 150001\n",
            "376m 1s (- 465m 49s) (67000 44%) 0.0758\n",
            "68000 / 150001\n",
            "382m 19s (- 461m 2s) (68000 45%) 0.0670\n",
            "69000 / 150001\n",
            "388m 26s (- 455m 59s) (69000 46%) 0.0633\n",
            "70000 / 150001\n",
            "394m 34s (- 450m 56s) (70000 46%) 0.0563\n",
            "71000 / 150001\n",
            "400m 48s (- 445m 57s) (71000 47%) 0.0699\n",
            "72000 / 150001\n",
            "407m 2s (- 440m 57s) (72000 48%) 0.0644\n",
            "73000 / 150001\n",
            "413m 37s (- 436m 17s) (73000 48%) 0.0631\n",
            "74000 / 150001\n",
            "420m 2s (- 431m 23s) (74000 49%) 0.0593\n",
            "75000 / 150001\n",
            "426m 26s (- 426m 26s) (75000 50%) 0.0546\n",
            "76000 / 150001\n",
            "432m 40s (- 421m 16s) (76000 50%) 0.0526\n",
            "77000 / 150001\n",
            "438m 59s (- 416m 10s) (77000 51%) 0.0660\n",
            "78000 / 150001\n",
            "444m 59s (- 410m 45s) (78000 52%) 0.0634\n",
            "79000 / 150001\n",
            "451m 5s (- 405m 24s) (79000 52%) 0.0588\n",
            "80000 / 150001\n",
            "457m 11s (- 400m 2s) (80000 53%) 0.0578\n",
            "81000 / 150001\n",
            "463m 14s (- 394m 36s) (81000 54%) 0.0517\n",
            "82000 / 150001\n",
            "469m 18s (- 389m 10s) (82000 54%) 0.0590\n",
            "83000 / 150001\n",
            "475m 28s (- 383m 48s) (83000 55%) 0.0609\n",
            "84000 / 150001\n",
            "481m 32s (- 378m 21s) (84000 56%) 0.0554\n",
            "85000 / 150001\n",
            "487m 43s (- 372m 58s) (85000 56%) 0.0585\n",
            "86000 / 150001\n",
            "493m 55s (- 367m 34s) (86000 57%) 0.0475\n",
            "87000 / 150001\n",
            "500m 1s (- 362m 5s) (87000 57%) 0.0648\n",
            "88000 / 150001\n",
            "506m 8s (- 356m 36s) (88000 58%) 0.0413\n",
            "89000 / 150001\n",
            "512m 16s (- 351m 6s) (89000 59%) 0.0717\n",
            "90000 / 150001\n",
            "518m 24s (- 345m 36s) (90000 60%) 0.0574\n",
            "91000 / 150001\n",
            "524m 22s (- 339m 58s) (91000 60%) 0.0633\n",
            "92000 / 150001\n",
            "530m 24s (- 334m 22s) (92000 61%) 0.0406\n",
            "93000 / 150001\n",
            "536m 18s (- 328m 42s) (93000 62%) 0.0777\n",
            "94000 / 150001\n",
            "542m 18s (- 323m 4s) (94000 62%) 0.0425\n",
            "95000 / 150001\n",
            "548m 14s (- 317m 24s) (95000 63%) 0.0551\n",
            "96000 / 150001\n",
            "554m 16s (- 311m 46s) (96000 64%) 0.0463\n",
            "97000 / 150001\n",
            "560m 13s (- 306m 6s) (97000 64%) 0.0538\n",
            "98000 / 150001\n",
            "566m 24s (- 300m 32s) (98000 65%) 0.0527\n",
            "99000 / 150001\n",
            "572m 28s (- 294m 54s) (99000 66%) 0.0442\n",
            "100000 / 150001\n",
            "578m 35s (- 289m 17s) (100000 66%) 0.0699\n",
            "101000 / 150001\n",
            "584m 40s (- 283m 39s) (101000 67%) 0.0623\n",
            "102000 / 150001\n",
            "590m 55s (- 278m 5s) (102000 68%) 0.0523\n",
            "103000 / 150001\n",
            "597m 14s (- 272m 31s) (103000 68%) 0.0547\n",
            "104000 / 150001\n",
            "603m 22s (- 266m 52s) (104000 69%) 0.0571\n",
            "105000 / 150001\n",
            "609m 38s (- 261m 16s) (105000 70%) 0.0449\n",
            "106000 / 150001\n",
            "615m 48s (- 255m 37s) (106000 70%) 0.0534\n",
            "107000 / 150001\n",
            "621m 54s (- 249m 55s) (107000 71%) 0.0500\n",
            "108000 / 150001\n",
            "628m 7s (- 244m 16s) (108000 72%) 0.0500\n",
            "109000 / 150001\n",
            "634m 13s (- 238m 33s) (109000 72%) 0.0521\n",
            "110000 / 150001\n",
            "640m 20s (- 232m 50s) (110000 73%) 0.0400\n",
            "111000 / 150001\n",
            "646m 24s (- 227m 7s) (111000 74%) 0.0474\n",
            "112000 / 150001\n",
            "652m 34s (- 221m 24s) (112000 74%) 0.0550\n",
            "113000 / 150001\n",
            "658m 34s (- 215m 38s) (113000 75%) 0.0489\n",
            "114000 / 150001\n",
            "664m 31s (- 209m 50s) (114000 76%) 0.0849\n",
            "115000 / 150001\n",
            "670m 40s (- 204m 7s) (115000 76%) 0.0595\n",
            "116000 / 150001\n",
            "676m 53s (- 198m 24s) (116000 77%) 0.0697\n",
            "117000 / 150001\n",
            "683m 3s (- 192m 39s) (117000 78%) 0.0586\n",
            "118000 / 150001\n",
            "689m 16s (- 186m 55s) (118000 78%) 0.0494\n",
            "119000 / 150001\n",
            "695m 19s (- 181m 8s) (119000 79%) 0.0606\n",
            "120000 / 150001\n",
            "701m 20s (- 175m 20s) (120000 80%) 0.0539\n",
            "121000 / 150001\n",
            "707m 24s (- 169m 32s) (121000 80%) 0.0574\n",
            "122000 / 150001\n",
            "713m 45s (- 163m 48s) (122000 81%) 0.0475\n",
            "123000 / 150001\n",
            "720m 1s (- 158m 3s) (123000 82%) 0.0374\n",
            "124000 / 150001\n",
            "726m 12s (- 152m 16s) (124000 82%) 0.0582\n",
            "125000 / 150001\n",
            "732m 33s (- 146m 30s) (125000 83%) 0.0310\n",
            "126000 / 150001\n",
            "738m 48s (- 140m 43s) (126000 84%) 0.0456\n",
            "127000 / 150001\n",
            "745m 6s (- 134m 56s) (127000 84%) 0.0545\n",
            "128000 / 150001\n",
            "751m 14s (- 129m 7s) (128000 85%) 0.0367\n",
            "129000 / 150001\n",
            "757m 22s (- 123m 17s) (129000 86%) 0.0529\n",
            "130000 / 150001\n",
            "763m 39s (- 117m 29s) (130000 86%) 0.0591\n",
            "131000 / 150001\n",
            "769m 48s (- 111m 39s) (131000 87%) 0.0461\n",
            "132000 / 150001\n",
            "776m 2s (- 105m 49s) (132000 88%) 0.0440\n",
            "133000 / 150001\n",
            "782m 12s (- 99m 58s) (133000 88%) 0.0563\n",
            "134000 / 150001\n",
            "788m 23s (- 94m 8s) (134000 89%) 0.0416\n",
            "135000 / 150001\n",
            "794m 28s (- 88m 16s) (135000 90%) 0.0457\n",
            "136000 / 150001\n",
            "800m 37s (- 82m 25s) (136000 90%) 0.0514\n",
            "137000 / 150001\n",
            "806m 47s (- 76m 33s) (137000 91%) 0.0733\n",
            "138000 / 150001\n",
            "812m 53s (- 70m 41s) (138000 92%) 0.0511\n",
            "139000 / 150001\n",
            "819m 5s (- 64m 49s) (139000 92%) 0.0489\n",
            "140000 / 150001\n",
            "825m 27s (- 58m 57s) (140000 93%) 0.0459\n",
            "141000 / 150001\n",
            "831m 49s (- 53m 5s) (141000 94%) 0.0452\n",
            "142000 / 150001\n",
            "838m 4s (- 47m 12s) (142000 94%) 0.0625\n",
            "143000 / 150001\n",
            "844m 13s (- 41m 19s) (143000 95%) 0.0398\n",
            "144000 / 150001\n",
            "850m 27s (- 35m 26s) (144000 96%) 0.0403\n",
            "145000 / 150001\n",
            "856m 47s (- 29m 32s) (145000 96%) 0.0366\n",
            "146000 / 150001\n",
            "863m 0s (- 23m 38s) (146000 97%) 0.0563\n",
            "147000 / 150001\n",
            "869m 14s (- 17m 44s) (147000 98%) 0.0563\n",
            "148000 / 150001\n",
            "875m 38s (- 11m 49s) (148000 98%) 0.0483\n",
            "149000 / 150001\n",
            "882m 1s (- 5m 55s) (149000 99%) 0.0353\n",
            "150000 / 150001\n",
            "888m 36s (- 0m 0s) (150000 100%) 0.0521\n"
          ],
          "name": "stdout"
        },
        {
          "output_type": "display_data",
          "data": {
            "text/plain": [
              "<Figure size 432x288 with 0 Axes>"
            ]
          },
          "metadata": {
            "tags": []
          }
        },
        {
          "output_type": "display_data",
          "data": {
            "image/png": "[encoded data removed]",
            "text/plain": [
              "<Figure size 432x288 with 1 Axes>"
            ]
          },
          "metadata": {
            "tags": [],
            "image/png": {
              "width": 372,
              "height": 248
            },
            "needs_background": "light"
          }
        }
      ]
    },
    {
      "cell_type": "code",
      "metadata": {
        "colab": {
          "base_uri": "https://localhost:8080/"
        },
        "id": "6jMiXrAaPuV8",
        "outputId": "89d994d4-909d-4b72-8478-5bc515511614"
      },
      "source": [
        "titles,abstracts,pred_abstracts=evaluateRandomly(encoder1, attn_decoder1,15000)\n",
        "\n",
        "pred_df_LSTM=pd.DataFrame()\n",
        "\n",
        "pred_df_LSTM['titles']=titles\n",
        "pred_df_LSTM['abstracts']=abstracts\n",
        "pred_df_LSTM['pred_abstracts']=pred_abstracts"
      ],
      "execution_count": 65,
      "outputs": [
        {
          "output_type": "stream",
          "text": [
            "0.0 % complete\n",
            "6.666666666666667 % complete\n",
            "13.333333333333334 % complete\n",
            "20.0 % complete\n",
            "26.666666666666668 % complete\n",
            "33.333333333333336 % complete\n",
            "40.0 % complete\n",
            "46.666666666666664 % complete\n",
            "53.333333333333336 % complete\n",
            "60.0 % complete\n",
            "66.66666666666667 % complete\n",
            "73.33333333333333 % complete\n",
            "80.0 % complete\n",
            "86.66666666666667 % complete\n",
            "93.33333333333333 % complete\n"
          ],
          "name": "stdout"
        }
      ]
    },
    {
      "cell_type": "code",
      "metadata": {
        "colab": {
          "base_uri": "https://localhost:8080/"
        },
        "id": "UXZpOM8FPuV8",
        "outputId": "085ff195-67af-44e4-a3e7-b6a7c702aed0"
      },
      "source": [
        "for i in range(105,110):\n",
        "    print(\"original Summary>>>\",pred_df_LSTM.iloc[i]['abstracts'])\n",
        "    print(\"Predicted Summary>>>\",pred_df_LSTM.iloc[i]['pred_abstracts'])\n",
        "    print('-----------------------------------------------------------------------')"
      ],
      "execution_count": 66,
      "outputs": [
        {
          "output_type": "stream",
          "text": [
            "original Summary>>> introduction rapid population growth developing countries means food required meet demands growing populations rain fed wheat barley major grain crops\n",
            "Predicted Summary>>> introduction rapid population growth developing countries means food required meet demands growing populations rain fed wheat barley major grain crops <EOS>\n",
            "-----------------------------------------------------------------------\n",
            "original Summary>>> highlights nir hsi cognize chemical component differences spatial distribution enhancing interpretability nir spectral images via pca svm analysis cnn deep learning utilized cognize viable non viable seeds approximately viability prediction accuracy naturally aged seeds quality individual seeds could assessed nondestructively rapidly\n",
            "Predicted Summary>>> highlights nir hsi cognize chemical component differences spatial distribution enhancing interpretability nir spectral images via pca svm analysis cnn deep learning utilized cognize viable non viable seeds approximately viability prediction accuracy naturally aged seeds quality individual seeds could assessed nondestructively rapidly <EOS>\n",
            "-----------------------------------------------------------------------\n",
            "original Summary>>> introduction soil fertility crop productivity closely related three main components soil ecosystems bio available soil nutrients soil microbiota organic matter content phosphorus\n",
            "Predicted Summary>>> introduction soil fertility crop productivity closely related three main components soil ecosystems bio available soil nutrients soil microbiota organic matter content phosphorus <EOS>\n",
            "-----------------------------------------------------------------------\n",
            "original Summary>>> highlights employing deep residual network detect visible segments grapevine canopies integrating faster cnn non maximal suppression algorithm accurate detection estimating cordon trajectories full foliage canopies real time vineyard environment approach estimate cordon trajectories growth stages green shoots research provides base towards automated green shoot thinning\n",
            "Predicted Summary>>> highlights employing deep residual network detect visible segments grapevine canopies integrating faster cnn non maximal suppression algorithm accurate detection estimating cordon trajectories full foliage canopies real time vineyard environment approach estimate cordon trajectories growth stages green shoots research provides base towards automated green shoot thinning <EOS>\n",
            "-----------------------------------------------------------------------\n",
            "original Summary>>> introduction high salinity one widespread abiotic stresses affecting plant physiology growth development remarkable reduction cereals productivity recurrently reported recent decades\n",
            "Predicted Summary>>> introduction high salinity one widespread abiotic stresses affecting plant physiology growth development remarkable reduction cereals productivity recurrently reported recent decades <EOS>\n",
            "-----------------------------------------------------------------------\n"
          ],
          "name": "stdout"
        }
      ]
    },
    {
      "cell_type": "code",
      "metadata": {
        "id": "p9XALxTpPuV8"
      },
      "source": [
        ""
      ],
      "execution_count": null,
      "outputs": []
    },
    {
      "cell_type": "code",
      "metadata": {
        "id": "zSkNfOeMPuV8"
      },
      "source": [
        ""
      ],
      "execution_count": null,
      "outputs": []
    },
    {
      "cell_type": "code",
      "metadata": {
        "id": "dXuGKwwjPuV8"
      },
      "source": [
        ""
      ],
      "execution_count": null,
      "outputs": []
    },
    {
      "cell_type": "code",
      "metadata": {
        "id": "mQfugGVePuV9"
      },
      "source": [
        ""
      ],
      "execution_count": null,
      "outputs": []
    },
    {
      "cell_type": "code",
      "metadata": {
        "id": "bjdhOS42PuV9"
      },
      "source": [
        ""
      ],
      "execution_count": null,
      "outputs": []
    },
    {
      "cell_type": "code",
      "metadata": {
        "id": "rYxXJvuoPuV9"
      },
      "source": [
        ""
      ],
      "execution_count": null,
      "outputs": []
    },
    {
      "cell_type": "code",
      "metadata": {
        "id": "iuY-Gn3nPuV9"
      },
      "source": [
        ""
      ],
      "execution_count": null,
      "outputs": []
    }
  ]
}